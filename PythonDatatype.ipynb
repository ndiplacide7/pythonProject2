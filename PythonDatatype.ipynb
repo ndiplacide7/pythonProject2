{
 "cells": [
  {
   "cell_type": "markdown",
   "id": "ee48c0b23e32663e",
   "metadata": {
    "collapsed": false
   },
   "source": [
    "# Python Data Types"
   ]
  },
  {
   "cell_type": "code",
   "execution_count": 1,
   "id": "a2129dd57356b307",
   "metadata": {
    "collapsed": false,
    "ExecuteTime": {
     "end_time": "2024-11-06T14:41:42.107106500Z",
     "start_time": "2024-11-06T14:41:42.003976900Z"
    }
   },
   "outputs": [
    {
     "data": {
      "text/plain": "'EMMANUEL'"
     },
     "execution_count": 1,
     "metadata": {},
     "output_type": "execute_result"
    }
   ],
   "source": [
    "from ipywidgets import fixed\n",
    "\n",
    "FirstName = \"EMMANUEL\"\n",
    "FirstName"
   ]
  },
  {
   "cell_type": "code",
   "execution_count": null,
   "id": "76ce73a8259c0652",
   "metadata": {
    "collapsed": false,
    "is_executing": true
   },
   "outputs": [],
   "source": [
    "# firstName = \"EMMANUEL\"\n",
    "# firstName"
   ]
  },
  {
   "cell_type": "markdown",
   "id": "b6849d1167360ac4",
   "metadata": {
    "collapsed": false
   },
   "source": [
    "# String Operations\n",
    " - Indexing\n",
    " - Slicing\n",
    " - Concatenation\n",
    " - count\n",
    " - replace\n",
    " - membership                                        - "
   ]
  },
  {
   "cell_type": "markdown",
   "id": "2de01b8f04b06aa9",
   "metadata": {
    "collapsed": false
   },
   "source": [
    "# 1. Indexing"
   ]
  },
  {
   "cell_type": "code",
   "execution_count": null,
   "id": "422d1dff5aa1c2b8",
   "metadata": {
    "collapsed": false
   },
   "outputs": [],
   "source": [
    "FirstName[2]"
   ]
  },
  {
   "cell_type": "markdown",
   "id": "771ba10402a6c552",
   "metadata": {
    "collapsed": false
   },
   "source": []
  },
  {
   "cell_type": "code",
   "execution_count": null,
   "id": "902cad50c1289da6",
   "metadata": {
    "collapsed": false
   },
   "outputs": [],
   "source": [
    "FirstName[-3]"
   ]
  },
  {
   "cell_type": "markdown",
   "id": "cad8c929a329a1bf",
   "metadata": {
    "collapsed": false
   },
   "source": [
    "# 2. Slicing \n",
    "## variableName[start:end:step] by default step is 1\n",
    "-"
   ]
  },
  {
   "cell_type": "code",
   "execution_count": null,
   "id": "de50711f06f3f7f2",
   "metadata": {
    "collapsed": false
   },
   "outputs": [],
   "source": [
    "FirstName[0:3:1]"
   ]
  },
  {
   "cell_type": "code",
   "execution_count": null,
   "id": "47ffd183e7f9e994",
   "metadata": {
    "collapsed": false
   },
   "outputs": [],
   "source": [
    "FirstName[0:7:20]"
   ]
  },
  {
   "cell_type": "code",
   "execution_count": null,
   "id": "6dd0d3b08b5ed95d",
   "metadata": {
    "collapsed": false
   },
   "outputs": [],
   "source": [
    "FirstName[::]"
   ]
  },
  {
   "cell_type": "code",
   "execution_count": null,
   "id": "814b635843b34b8d",
   "metadata": {
    "collapsed": false
   },
   "outputs": [],
   "source": [
    "FirstName[:]"
   ]
  },
  {
   "cell_type": "code",
   "execution_count": null,
   "id": "a8eb71ed26f7362d",
   "metadata": {
    "collapsed": false
   },
   "outputs": [],
   "source": [
    "FirstName[7:1:-1]"
   ]
  },
  {
   "cell_type": "code",
   "execution_count": null,
   "id": "46329a82df0a9b2d",
   "metadata": {
    "collapsed": false
   },
   "outputs": [],
   "source": [
    "FirstName[-1:-10:-1]"
   ]
  },
  {
   "cell_type": "code",
   "execution_count": null,
   "id": "56707c51271d5296",
   "metadata": {
    "collapsed": false
   },
   "outputs": [],
   "source": [
    "FirstName[::-1] ## Print in Reverse Order"
   ]
  },
  {
   "cell_type": "code",
   "execution_count": null,
   "id": "372a10734a4e2cfa",
   "metadata": {
    "collapsed": false
   },
   "outputs": [],
   "source": []
  },
  {
   "cell_type": "code",
   "execution_count": null,
   "id": "3bce877b7c922340",
   "metadata": {
    "collapsed": false
   },
   "outputs": [],
   "source": [
    "# Concatenation"
   ]
  },
  {
   "cell_type": "code",
   "execution_count": null,
   "id": "1dfce33ef2c48bfc",
   "metadata": {
    "collapsed": false
   },
   "outputs": [],
   "source": [
    "LastName=\"HAKIZIMANA\""
   ]
  },
  {
   "cell_type": "code",
   "execution_count": null,
   "id": "1df17b46bbf38b72",
   "metadata": {
    "collapsed": false
   },
   "outputs": [],
   "source": [
    "FullName = FirstName + \" \" + LastName"
   ]
  },
  {
   "cell_type": "code",
   "execution_count": null,
   "id": "5539928216e3e28f",
   "metadata": {
    "collapsed": false
   },
   "outputs": [],
   "source": [
    "# Frequency of substring\n",
    "FirstName.count(\"M\")"
   ]
  },
  {
   "cell_type": "markdown",
   "id": "b9f9ad912dafe148",
   "metadata": {
    "collapsed": false
   },
   "source": [
    "# Tuple : Is a sequence of immutable Python objects like floating number, string,etc\n",
    "- Tuple is Allows duplicate members\n",
    "- Tuple is an ordered"
   ]
  },
  {
   "cell_type": "code",
   "execution_count": null,
   "id": "f47d78abbc0f8dc5",
   "metadata": {
    "collapsed": false
   },
   "outputs": [],
   "source": [
    "myTuple = (23,23.65,23,\"kk\")\n",
    "myTuple"
   ]
  },
  {
   "cell_type": "code",
   "execution_count": null,
   "id": "cdaf446cf7c1616",
   "metadata": {
    "collapsed": false
   },
   "outputs": [],
   "source": [
    "nestedTuple = (23,23.65,23,\"kk\",(3+5j,'ii'))\n",
    "nestedTuple"
   ]
  },
  {
   "cell_type": "code",
   "execution_count": null,
   "id": "892450092fa84a3d",
   "metadata": {
    "collapsed": false
   },
   "outputs": [],
   "source": [
    "type(nestedTuple)"
   ]
  },
  {
   "cell_type": "code",
   "execution_count": null,
   "id": "4444e4b82ca2fd70",
   "metadata": {
    "collapsed": false
   },
   "outputs": [],
   "source": [
    "myTuple[-1]"
   ]
  },
  {
   "cell_type": "markdown",
   "id": "b704ba950da87891",
   "metadata": {
    "collapsed": false
   },
   "source": [
    "# List"
   ]
  },
  {
   "cell_type": "markdown",
   "id": "cf01a7e51af2bd94",
   "metadata": {
    "collapsed": false
   },
   "source": [
    "# List append"
   ]
  },
  {
   "cell_type": "code",
   "execution_count": null,
   "id": "e34e50e04b369bf",
   "metadata": {
    "collapsed": false
   },
   "outputs": [],
   "source": [
    "myList = [23,23.65,23,\"kk\"]\n",
    "myList"
   ]
  },
  {
   "cell_type": "code",
   "execution_count": null,
   "id": "1411a4f7ed1af567",
   "metadata": {
    "collapsed": false
   },
   "outputs": [],
   "source": [
    "myList.append(\"added value\")\n",
    "myList"
   ]
  },
  {
   "cell_type": "code",
   "execution_count": null,
   "id": "d395dae5babc7d04",
   "metadata": {
    "collapsed": false
   },
   "outputs": [],
   "source": [
    "myList.append(nestedTuple)\n",
    "myList"
   ]
  },
  {
   "cell_type": "code",
   "execution_count": null,
   "id": "73ade80e6737bf23",
   "metadata": {
    "collapsed": false
   },
   "outputs": [],
   "source": [
    "myList[3]"
   ]
  },
  {
   "cell_type": "markdown",
   "id": "3d97e36939d9e41d",
   "metadata": {
    "collapsed": false
   },
   "source": [
    "# List Extend"
   ]
  },
  {
   "cell_type": "code",
   "execution_count": null,
   "id": "9085187dd0574df5",
   "metadata": {
    "collapsed": false
   },
   "outputs": [],
   "source": [
    "myList.extend()"
   ]
  },
  {
   "cell_type": "markdown",
   "id": "414faf112bb3d8a5",
   "metadata": {
    "collapsed": false
   },
   "source": [
    "# List Insert"
   ]
  },
  {
   "cell_type": "code",
   "execution_count": 100,
   "id": "e9c01f90ce1a6c0e",
   "metadata": {
    "ExecuteTime": {
     "end_time": "2024-11-05T18:32:16.306681Z",
     "start_time": "2024-11-05T18:32:16.277548200Z"
    },
    "collapsed": false
   },
   "outputs": [
    {
     "data": {
      "text/plain": [
       "[23,\n",
       " 23.65,\n",
       " 'inserted value',\n",
       " 'inserted value',\n",
       " 23,\n",
       " 'kk',\n",
       " 'added value',\n",
       " (23, 23.65, 23, 'kk', ((3+5j), 'ii'))]"
      ]
     },
     "execution_count": 100,
     "metadata": {},
     "output_type": "execute_result"
    }
   ],
   "source": [
    "myList.insert(2,\"inserted value\")\n",
    "myList"
   ]
  },
  {
   "cell_type": "markdown",
   "id": "c09c9dfca04524bb",
   "metadata": {
    "collapsed": false
   },
   "source": [
    "# List Remove"
   ]
  },
  {
   "cell_type": "code",
   "execution_count": 101,
   "id": "e7c25767b59cf6a7",
   "metadata": {
    "ExecuteTime": {
     "end_time": "2024-11-05T18:32:19.474991100Z",
     "start_time": "2024-11-05T18:32:19.433781600Z"
    },
    "collapsed": false
   },
   "outputs": [
    {
     "data": {
      "text/plain": [
       "[23,\n",
       " 23.65,\n",
       " 'inserted value',\n",
       " 23,\n",
       " 'kk',\n",
       " 'added value',\n",
       " (23, 23.65, 23, 'kk', ((3+5j), 'ii'))]"
      ]
     },
     "execution_count": 101,
     "metadata": {},
     "output_type": "execute_result"
    }
   ],
   "source": [
    "myList.remove(\"inserted value\")\n",
    "myList"
   ]
  },
  {
   "cell_type": "code",
   "execution_count": 102,
   "id": "a5401869410c7e00",
   "metadata": {
    "ExecuteTime": {
     "end_time": "2024-11-05T18:32:22.361102Z",
     "start_time": "2024-11-05T18:32:22.326079700Z"
    },
    "collapsed": false
   },
   "outputs": [
    {
     "data": {
      "text/plain": [
       "[23.65,\n",
       " 'inserted value',\n",
       " 23,\n",
       " 'kk',\n",
       " 'added value',\n",
       " (23, 23.65, 23, 'kk', ((3+5j), 'ii'))]"
      ]
     },
     "execution_count": 102,
     "metadata": {},
     "output_type": "execute_result"
    }
   ],
   "source": [
    "myList.remove(23)\n",
    "myList"
   ]
  },
  {
   "cell_type": "markdown",
   "id": "be0fc81efcdd3c12",
   "metadata": {
    "collapsed": false
   },
   "source": [
    "# Set"
   ]
  },
  {
   "cell_type": "markdown",
   "id": "4740d9f04261c555",
   "metadata": {
    "collapsed": false
   },
   "source": []
  },
  {
   "cell_type": "code",
   "execution_count": 115,
   "id": "1685c0ab97b95bf2",
   "metadata": {
    "ExecuteTime": {
     "end_time": "2024-11-05T18:43:38.015329200Z",
     "start_time": "2024-11-05T18:43:38.002171400Z"
    },
    "collapsed": false
   },
   "outputs": [
    {
     "data": {
      "text/plain": [
       "{12, 2, 23, 23.65, 3, 44, 65, 'kk'}"
      ]
     },
     "execution_count": 115,
     "metadata": {},
     "output_type": "execute_result"
    }
   ],
   "source": [
    "mySet = {23,23.65,23,\"kk\",2,3,44,12,23,65,23}\n",
    "mySet"
   ]
  },
  {
   "cell_type": "markdown",
   "id": "5c32eb1092cc2b61",
   "metadata": {
    "collapsed": false
   },
   "source": [
    "# Dictionary"
   ]
  },
  {
   "cell_type": "code",
   "execution_count": 120,
   "id": "a529903b701ca5d0",
   "metadata": {
    "ExecuteTime": {
     "end_time": "2024-11-05T18:58:08.284607100Z",
     "start_time": "2024-11-05T18:58:08.245746600Z"
    },
    "collapsed": false
   },
   "outputs": [
    {
     "data": {
      "text/plain": [
       "{'Name': ['Placide', 'Jacob', 'Emma'],\n",
       " 'Age': [23, 19, 30],\n",
       " 'Country': ['RWANDA', 'KENYA', 'SOUTH AFRICA']}"
      ]
     },
     "execution_count": 120,
     "metadata": {},
     "output_type": "execute_result"
    }
   ],
   "source": [
    "myDict = {\n",
    "    \"Name\" : [\"Placide\",\"Jacob\",\"Emma\"],\n",
    "    \"Age\" : [23,19,30],\n",
    "    \"Country\" : [\"RWANDA\",\"KENYA\",\"SOUTH AFRICA\"]\n",
    "}\n",
    "myDict"
   ]
  },
  {
   "cell_type": "code",
   "execution_count": null,
   "id": "74fb0f22eec0f3ac",
   "metadata": {
    "collapsed": false
   },
   "outputs": [],
   "source": [
    "text = \"Hello, Python!\"\n",
    "text[-6:]"
   ]
  },
  {
   "cell_type": "code",
   "execution_count": 1,
   "id": "7c0532d1146733bb",
   "metadata": {
    "ExecuteTime": {
     "end_time": "2024-11-06T11:12:50.031835100Z",
     "start_time": "2024-11-06T11:12:50.005618200Z"
    },
    "collapsed": false
   },
   "outputs": [
    {
     "data": {
      "text/plain": [
       "5"
      ]
     },
     "execution_count": 1,
     "metadata": {},
     "output_type": "execute_result"
    }
   ],
   "source": [
    "fruits = ['apple', 'banana', 'cherry', 'date', 'elderberry']\n",
    "fruits.insert(2, 'mango')\n",
    "fruits.remove('mango')\n",
    "fruits.sort(reverse=False) \n",
    "fruits.reverse() \n",
    "len(fruits)"
   ]
  },
  {
   "cell_type": "code",
   "execution_count": null,
   "id": "3137229ba52de8b0",
   "metadata": {
    "collapsed": false
   },
   "outputs": [],
   "source": []
  }
 ],
 "metadata": {
  "kernelspec": {
   "display_name": "Python 3 (ipykernel)",
   "language": "python",
   "name": "python3"
  },
  "language_info": {
   "codemirror_mode": {
    "name": "ipython",
    "version": 3
   },
   "file_extension": ".py",
   "mimetype": "text/x-python",
   "name": "python",
   "nbconvert_exporter": "python",
   "pygments_lexer": "ipython3",
   "version": "3.10.11"
  }
 },
 "nbformat": 4,
 "nbformat_minor": 5
}

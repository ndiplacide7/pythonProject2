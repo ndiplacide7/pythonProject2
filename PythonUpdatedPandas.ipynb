{
 "cells": [
  {
   "cell_type": "code",
   "execution_count": null,
   "id": "initial_id",
   "metadata": {
    "collapsed": true
   },
   "outputs": [],
   "source": []
  },
  {
   "cell_type": "code",
   "execution_count": null,
   "outputs": [],
   "source": [
    "import pandas as pd"
   ],
   "metadata": {
    "collapsed": false
   },
   "id": "ac18c4bfa6a2f311"
  },
  {
   "cell_type": "markdown",
   "source": [
    "# Craeting a datframe form dictionary"
   ],
   "metadata": {
    "collapsed": false
   },
   "id": "f86f3068090bc1fc"
  },
  {
   "cell_type": "code",
   "execution_count": null,
   "outputs": [],
   "source": [
    "# Create a dictionary \n",
    "StudentPythonMarks = { 'Name': ['Student1','Student2','Student3','Student4', 'Student5'],\n",
    "                        'RegNo': [240001,240002,240003,240004,240005],\n",
    "                        'Marks' : [45,78,89,23,90]\n",
    "                     }\n",
    "\n",
    "# Craeting a dataframe form dictionary\n",
    "StudentPythonMarks_df = pd.DataFrame(StudentPythonMarks)\n",
    "\n",
    "StudentPythonMarks_df"
   ],
   "metadata": {
    "collapsed": false
   },
   "id": "c696fad097e10bb3"
  },
  {
   "cell_type": "code",
   "execution_count": null,
   "outputs": [],
   "source": [],
   "metadata": {
    "collapsed": false
   },
   "id": "c94cbf316b88e7e6"
  },
  {
   "cell_type": "code",
   "execution_count": null,
   "outputs": [],
   "source": [
    "# import required package\n",
    "import requests \n",
    "\n",
    "url = \"https://raw.githubusercontent.com/Kundan-Rwanda/sample-sales-data/refs/heads/main/products.json\"\n",
    "\n",
    "response = requests.get(url)\n",
    "json_data = response.json()\n",
    "\n",
    "#creating pandas dataframe form json\n",
    "\n",
    "json_df = pd.DataFrame(json_data)\n",
    "json_df"
   ],
   "metadata": {
    "collapsed": false
   },
   "id": "b4e7c14e87f0e778"
  },
  {
   "cell_type": "code",
   "execution_count": null,
   "outputs": [],
   "source": [
    "json_df['Price'] = [100,200,300,400,500,600,700,800,900,1000,230,10]"
   ],
   "metadata": {
    "collapsed": false
   },
   "id": "2f1de2b26b8cb25b"
  },
  {
   "cell_type": "code",
   "execution_count": null,
   "outputs": [],
   "source": [
    "json_df"
   ],
   "metadata": {
    "collapsed": false
   },
   "id": "5bccbfd953d4b734"
  },
  {
   "cell_type": "code",
   "execution_count": null,
   "outputs": [],
   "source": [
    "json_df['UpdatedPrice'] = [233,4400,230,3400,4400,65675,77600,80000,999,2100,250,100]"
   ],
   "metadata": {
    "collapsed": false
   },
   "id": "9b5f8c858b81e830"
  },
  {
   "cell_type": "code",
   "execution_count": null,
   "outputs": [],
   "source": [
    "json_df"
   ],
   "metadata": {
    "collapsed": false
   },
   "id": "65a62132b0938d8e"
  },
  {
   "cell_type": "markdown",
   "source": [
    "# create a new column incremetedPrice by 100\n"
   ],
   "metadata": {
    "collapsed": false
   },
   "id": "e0dffec213eb7103"
  },
  {
   "cell_type": "code",
   "execution_count": null,
   "outputs": [],
   "source": [
    "json_df['incremetedPrice'] = json_df['UpdatedPrice'] + 100"
   ],
   "metadata": {
    "collapsed": false
   },
   "id": "64b6bd428595d0b2"
  },
  {
   "cell_type": "code",
   "execution_count": null,
   "outputs": [],
   "source": [
    "json_df['incremetedPriceByPercent'] = (((json_df['UpdatedPrice'] - json_df['Price']) / json_df['Price']) * 100).round(2)"
   ],
   "metadata": {
    "collapsed": false
   },
   "id": "28e0e006a5034d09"
  },
  {
   "cell_type": "code",
   "execution_count": null,
   "outputs": [],
   "source": [
    "json_df"
   ],
   "metadata": {
    "collapsed": false
   },
   "id": "64424424f9fb56b"
  },
  {
   "cell_type": "markdown",
   "source": [
    "# Delete incrementedPice column"
   ],
   "metadata": {
    "collapsed": false
   },
   "id": "3bdf9ef7b521cf2a"
  },
  {
   "cell_type": "code",
   "execution_count": null,
   "outputs": [],
   "source": [
    "json_df = json_df.drop('incremetedPrice',axis=1)"
   ],
   "metadata": {
    "collapsed": false
   },
   "id": "29e68d8398558275"
  },
  {
   "cell_type": "code",
   "execution_count": null,
   "outputs": [],
   "source": [
    "json_df"
   ],
   "metadata": {
    "collapsed": false
   },
   "id": "c6766f527ffcf5e4"
  },
  {
   "cell_type": "code",
   "execution_count": null,
   "outputs": [],
   "source": [],
   "metadata": {
    "collapsed": false
   },
   "id": "eafdef4e278343f"
  },
  {
   "cell_type": "markdown",
   "source": [
    "# Slicing data using loc and iloc"
   ],
   "metadata": {
    "collapsed": false
   },
   "id": "4e9dbdb76dd6c620"
  },
  {
   "cell_type": "markdown",
   "source": [
    "# 1. loc : location"
   ],
   "metadata": {
    "collapsed": false
   },
   "id": "ba46727137bda143"
  },
  {
   "cell_type": "code",
   "execution_count": null,
   "outputs": [],
   "source": [
    "json_df.loc[json_df['Price'] > 500] # returns all rows where price is greater than 500"
   ],
   "metadata": {
    "collapsed": false
   },
   "id": "c16152022745623c"
  },
  {
   "cell_type": "code",
   "execution_count": null,
   "outputs": [],
   "source": [
    "json_df.loc[4::,'Name'::2]"
   ],
   "metadata": {
    "collapsed": false
   },
   "id": "c58db18bdd3cb893"
  },
  {
   "cell_type": "code",
   "execution_count": null,
   "outputs": [],
   "source": [
    "json_df.loc[4::,'Name':'WeightGrams':2] # In loc, first value is inclusive and second value is exclusive"
   ],
   "metadata": {
    "collapsed": false
   },
   "id": "793ecb032b29f951"
  },
  {
   "cell_type": "code",
   "execution_count": null,
   "outputs": [],
   "source": [
    "len(json_df)"
   ],
   "metadata": {
    "collapsed": false
   },
   "id": "5883987aec1f4dc6"
  },
  {
   "cell_type": "code",
   "execution_count": null,
   "outputs": [],
   "source": [
    "json_df.loc[11]"
   ],
   "metadata": {
    "collapsed": false
   },
   "id": "e51257feb96427b4"
  },
  {
   "cell_type": "code",
   "execution_count": null,
   "outputs": [],
   "source": [
    "new_price_df = (json_df['UpdatedPrice'] *105)/100\n",
    "new_price_df"
   ],
   "metadata": {
    "collapsed": false
   },
   "id": "ba663c455771705e"
  },
  {
   "cell_type": "markdown",
   "source": [
    "# apply() function"
   ],
   "metadata": {
    "collapsed": false
   },
   "id": "395b0d0ea09b7e27"
  },
  {
   "cell_type": "code",
   "execution_count": null,
   "outputs": [],
   "source": [
    "json_df['UpdatedPrice'].apply(lambda x: x * 105 / 100)"
   ],
   "metadata": {
    "collapsed": false
   },
   "id": "afce16aa71d1d4a4"
  },
  {
   "cell_type": "code",
   "execution_count": null,
   "outputs": [],
   "source": [
    "json_df"
   ],
   "metadata": {
    "collapsed": false
   },
   "id": "56d61e0840db59b"
  },
  {
   "cell_type": "code",
   "execution_count": null,
   "outputs": [],
   "source": [
    "json_df.loc[1::, ] # Index Slicing is only possible in loc on rows  ???? do a research on this"
   ],
   "metadata": {
    "collapsed": false
   },
   "id": "f9502b3fdee9a6ab"
  },
  {
   "cell_type": "code",
   "execution_count": null,
   "outputs": [],
   "source": [
    "json_df['UpdatedPrice'] = new_price_df"
   ],
   "metadata": {
    "collapsed": false
   },
   "id": "b2c3cec0c4521626"
  },
  {
   "cell_type": "code",
   "execution_count": null,
   "outputs": [],
   "source": [],
   "metadata": {
    "collapsed": false
   },
   "id": "e185400fa8ce738"
  },
  {
   "cell_type": "code",
   "execution_count": null,
   "outputs": [],
   "source": [
    "json_df"
   ],
   "metadata": {
    "collapsed": false
   },
   "id": "9d97c42f6bc1d24f"
  },
  {
   "cell_type": "markdown",
   "source": [
    "# 2. iloc : Integer location\n",
    "- iloc uses integer positions"
   ],
   "metadata": {
    "collapsed": false
   },
   "id": "990474e950b33388"
  },
  {
   "cell_type": "code",
   "execution_count": null,
   "outputs": [],
   "source": [
    "json_df"
   ],
   "metadata": {
    "collapsed": false
   },
   "id": "c00d41cd204ceafe"
  },
  {
   "cell_type": "code",
   "execution_count": null,
   "outputs": [],
   "source": [
    "json_df.iloc[2::, 1::2]"
   ],
   "metadata": {
    "collapsed": false
   },
   "id": "64642c747833db12"
  },
  {
   "cell_type": "code",
   "execution_count": null,
   "outputs": [],
   "source": [],
   "metadata": {
    "collapsed": false
   },
   "id": "b598535d1693c9c8"
  },
  {
   "cell_type": "markdown",
   "source": [
    "# Dataframe Merge"
   ],
   "metadata": {
    "collapsed": false
   },
   "id": "71193d03e94a040"
  },
  {
   "cell_type": "code",
   "execution_count": null,
   "outputs": [],
   "source": [
    "df1 = json_df.iloc[::, :500]"
   ],
   "metadata": {
    "collapsed": false
   },
   "id": "56c88fe3a229b4f2"
  },
  {
   "cell_type": "code",
   "execution_count": null,
   "outputs": [],
   "source": [
    "df2 = json_df.iloc[::, 600:1000]"
   ],
   "metadata": {
    "collapsed": false
   },
   "id": "10667c44c46db9af"
  },
  {
   "cell_type": "code",
   "execution_count": null,
   "outputs": [],
   "source": [],
   "metadata": {
    "collapsed": false
   },
   "id": "7ca0aba15a1e6864"
  },
  {
   "cell_type": "code",
   "execution_count": 123,
   "outputs": [
    {
     "data": {
      "text/plain": "   ID     Name  Age  Product_ID Purchased_Product       City\n0   1   Olivia   20         101             Watch     Mumbai\n1   2   Aditya   25           0                Na      Delhi\n2   3     Cory   15         106               Oil  Bangalore\n3   4  Isabell   10           0               NaN    Chennai\n4   5  Dominic   30         103             Shoes    Chennai\n5   6    Tyler   65         104        Smartphone      Delhi\n6   7   Samuel   35           0               NaN    Kolkata\n7   8   Daniel   18           0               NaN      Delhi\n8   9   Jeremy   23         107            Laptop     Mumbai",
      "text/html": "<div>\n<style scoped>\n    .dataframe tbody tr th:only-of-type {\n        vertical-align: middle;\n    }\n\n    .dataframe tbody tr th {\n        vertical-align: top;\n    }\n\n    .dataframe thead th {\n        text-align: right;\n    }\n</style>\n<table border=\"1\" class=\"dataframe\">\n  <thead>\n    <tr style=\"text-align: right;\">\n      <th></th>\n      <th>ID</th>\n      <th>Name</th>\n      <th>Age</th>\n      <th>Product_ID</th>\n      <th>Purchased_Product</th>\n      <th>City</th>\n    </tr>\n  </thead>\n  <tbody>\n    <tr>\n      <th>0</th>\n      <td>1</td>\n      <td>Olivia</td>\n      <td>20</td>\n      <td>101</td>\n      <td>Watch</td>\n      <td>Mumbai</td>\n    </tr>\n    <tr>\n      <th>1</th>\n      <td>2</td>\n      <td>Aditya</td>\n      <td>25</td>\n      <td>0</td>\n      <td>Na</td>\n      <td>Delhi</td>\n    </tr>\n    <tr>\n      <th>2</th>\n      <td>3</td>\n      <td>Cory</td>\n      <td>15</td>\n      <td>106</td>\n      <td>Oil</td>\n      <td>Bangalore</td>\n    </tr>\n    <tr>\n      <th>3</th>\n      <td>4</td>\n      <td>Isabell</td>\n      <td>10</td>\n      <td>0</td>\n      <td>NaN</td>\n      <td>Chennai</td>\n    </tr>\n    <tr>\n      <th>4</th>\n      <td>5</td>\n      <td>Dominic</td>\n      <td>30</td>\n      <td>103</td>\n      <td>Shoes</td>\n      <td>Chennai</td>\n    </tr>\n    <tr>\n      <th>5</th>\n      <td>6</td>\n      <td>Tyler</td>\n      <td>65</td>\n      <td>104</td>\n      <td>Smartphone</td>\n      <td>Delhi</td>\n    </tr>\n    <tr>\n      <th>6</th>\n      <td>7</td>\n      <td>Samuel</td>\n      <td>35</td>\n      <td>0</td>\n      <td>NaN</td>\n      <td>Kolkata</td>\n    </tr>\n    <tr>\n      <th>7</th>\n      <td>8</td>\n      <td>Daniel</td>\n      <td>18</td>\n      <td>0</td>\n      <td>NaN</td>\n      <td>Delhi</td>\n    </tr>\n    <tr>\n      <th>8</th>\n      <td>9</td>\n      <td>Jeremy</td>\n      <td>23</td>\n      <td>107</td>\n      <td>Laptop</td>\n      <td>Mumbai</td>\n    </tr>\n  </tbody>\n</table>\n</div>"
     },
     "execution_count": 123,
     "metadata": {},
     "output_type": "execute_result"
    }
   ],
   "source": [
    "customer_df = pd.read_csv(\"D:\\\\datasets\\\\coh7\\\\Customer.csv\")\n",
    "customer_df"
   ],
   "metadata": {
    "collapsed": false,
    "ExecuteTime": {
     "end_time": "2024-11-13T18:18:51.930691200Z",
     "start_time": "2024-11-13T18:18:51.916828700Z"
    }
   },
   "id": "28a2ab94c3214d39"
  },
  {
   "cell_type": "markdown",
   "source": [
    "# Product dataframe"
   ],
   "metadata": {
    "collapsed": false
   },
   "id": "bbd416007570b007"
  },
  {
   "cell_type": "code",
   "execution_count": 119,
   "outputs": [
    {
     "data": {
      "text/plain": "   Product_ID Product_Name     Category  Price Seller_City\n0         101        Watch      Fashion    299       Delhi\n1         102          Bag      Fashion   1350      Mumbai\n2         103        Shoes      Fashion   2999     Chennai\n3         104   Smartphone  Electronics  14999     Klokata\n4         105        Books        Study    145       Delhi\n5         106          Oil      Grocery    110     Chennai\n6         107       Laptop  Electronics  79999   Bengalore",
      "text/html": "<div>\n<style scoped>\n    .dataframe tbody tr th:only-of-type {\n        vertical-align: middle;\n    }\n\n    .dataframe tbody tr th {\n        vertical-align: top;\n    }\n\n    .dataframe thead th {\n        text-align: right;\n    }\n</style>\n<table border=\"1\" class=\"dataframe\">\n  <thead>\n    <tr style=\"text-align: right;\">\n      <th></th>\n      <th>Product_ID</th>\n      <th>Product_Name</th>\n      <th>Category</th>\n      <th>Price</th>\n      <th>Seller_City</th>\n    </tr>\n  </thead>\n  <tbody>\n    <tr>\n      <th>0</th>\n      <td>101</td>\n      <td>Watch</td>\n      <td>Fashion</td>\n      <td>299</td>\n      <td>Delhi</td>\n    </tr>\n    <tr>\n      <th>1</th>\n      <td>102</td>\n      <td>Bag</td>\n      <td>Fashion</td>\n      <td>1350</td>\n      <td>Mumbai</td>\n    </tr>\n    <tr>\n      <th>2</th>\n      <td>103</td>\n      <td>Shoes</td>\n      <td>Fashion</td>\n      <td>2999</td>\n      <td>Chennai</td>\n    </tr>\n    <tr>\n      <th>3</th>\n      <td>104</td>\n      <td>Smartphone</td>\n      <td>Electronics</td>\n      <td>14999</td>\n      <td>Klokata</td>\n    </tr>\n    <tr>\n      <th>4</th>\n      <td>105</td>\n      <td>Books</td>\n      <td>Study</td>\n      <td>145</td>\n      <td>Delhi</td>\n    </tr>\n    <tr>\n      <th>5</th>\n      <td>106</td>\n      <td>Oil</td>\n      <td>Grocery</td>\n      <td>110</td>\n      <td>Chennai</td>\n    </tr>\n    <tr>\n      <th>6</th>\n      <td>107</td>\n      <td>Laptop</td>\n      <td>Electronics</td>\n      <td>79999</td>\n      <td>Bengalore</td>\n    </tr>\n  </tbody>\n</table>\n</div>"
     },
     "execution_count": 119,
     "metadata": {},
     "output_type": "execute_result"
    }
   ],
   "source": [
    "product_df = pd.read_csv(\"D:\\\\datasets\\\\coh7\\\\Product.csv\")\n",
    "product_df"
   ],
   "metadata": {
    "collapsed": false,
    "ExecuteTime": {
     "end_time": "2024-11-13T18:18:01.866127400Z",
     "start_time": "2024-11-13T18:18:01.825619900Z"
    }
   },
   "id": "4dc447ec716790b4"
  },
  {
   "cell_type": "markdown",
   "source": [
    "### Inner merge\n",
    "- on"
   ],
   "metadata": {
    "collapsed": false
   },
   "id": "8c0e01261ee1a81"
  },
  {
   "cell_type": "code",
   "execution_count": 106,
   "outputs": [
    {
     "data": {
      "text/plain": "   Product_ID Product_Name     Category  Price Seller_City  ID     Name  Age  \\\n0         101        Watch      Fashion    299       Delhi   1   Olivia   20   \n1         103        Shoes      Fashion   2999     Chennai   5  Dominic   30   \n2         104   Smartphone  Electronics  14999     Klokata   6    Tyler   65   \n3         106          Oil      Grocery    110     Chennai   3     Cory   15   \n4         107       Laptop  Electronics  79999   Bengalore   9   Jeremy   23   \n\n  Purchased_Product       City  \n0             Watch     Mumbai  \n1             Shoes    Chennai  \n2        Smartphone      Delhi  \n3               Oil  Bangalore  \n4            Laptop     Mumbai  ",
      "text/html": "<div>\n<style scoped>\n    .dataframe tbody tr th:only-of-type {\n        vertical-align: middle;\n    }\n\n    .dataframe tbody tr th {\n        vertical-align: top;\n    }\n\n    .dataframe thead th {\n        text-align: right;\n    }\n</style>\n<table border=\"1\" class=\"dataframe\">\n  <thead>\n    <tr style=\"text-align: right;\">\n      <th></th>\n      <th>Product_ID</th>\n      <th>Product_Name</th>\n      <th>Category</th>\n      <th>Price</th>\n      <th>Seller_City</th>\n      <th>ID</th>\n      <th>Name</th>\n      <th>Age</th>\n      <th>Purchased_Product</th>\n      <th>City</th>\n    </tr>\n  </thead>\n  <tbody>\n    <tr>\n      <th>0</th>\n      <td>101</td>\n      <td>Watch</td>\n      <td>Fashion</td>\n      <td>299</td>\n      <td>Delhi</td>\n      <td>1</td>\n      <td>Olivia</td>\n      <td>20</td>\n      <td>Watch</td>\n      <td>Mumbai</td>\n    </tr>\n    <tr>\n      <th>1</th>\n      <td>103</td>\n      <td>Shoes</td>\n      <td>Fashion</td>\n      <td>2999</td>\n      <td>Chennai</td>\n      <td>5</td>\n      <td>Dominic</td>\n      <td>30</td>\n      <td>Shoes</td>\n      <td>Chennai</td>\n    </tr>\n    <tr>\n      <th>2</th>\n      <td>104</td>\n      <td>Smartphone</td>\n      <td>Electronics</td>\n      <td>14999</td>\n      <td>Klokata</td>\n      <td>6</td>\n      <td>Tyler</td>\n      <td>65</td>\n      <td>Smartphone</td>\n      <td>Delhi</td>\n    </tr>\n    <tr>\n      <th>3</th>\n      <td>106</td>\n      <td>Oil</td>\n      <td>Grocery</td>\n      <td>110</td>\n      <td>Chennai</td>\n      <td>3</td>\n      <td>Cory</td>\n      <td>15</td>\n      <td>Oil</td>\n      <td>Bangalore</td>\n    </tr>\n    <tr>\n      <th>4</th>\n      <td>107</td>\n      <td>Laptop</td>\n      <td>Electronics</td>\n      <td>79999</td>\n      <td>Bengalore</td>\n      <td>9</td>\n      <td>Jeremy</td>\n      <td>23</td>\n      <td>Laptop</td>\n      <td>Mumbai</td>\n    </tr>\n  </tbody>\n</table>\n</div>"
     },
     "execution_count": 106,
     "metadata": {},
     "output_type": "execute_result"
    }
   ],
   "source": [
    "pd.merge(product_df,customer_df,on='Product_ID')"
   ],
   "metadata": {
    "collapsed": false,
    "ExecuteTime": {
     "end_time": "2024-11-13T18:01:29.035773500Z",
     "start_time": "2024-11-13T18:01:28.982910700Z"
    }
   },
   "id": "11e65095dff4d5d6"
  },
  {
   "cell_type": "markdown",
   "source": [
    "### Inner merge\n",
    "- left_on\n",
    "- right_on"
   ],
   "metadata": {
    "collapsed": false
   },
   "id": "ead581cd21a4983c"
  },
  {
   "cell_type": "code",
   "execution_count": 107,
   "outputs": [
    {
     "data": {
      "text/plain": "   Product_ID_x Product_Name     Category  Price Seller_City  ID     Name  \\\n0           101        Watch      Fashion    299       Delhi   1   Olivia   \n1           103        Shoes      Fashion   2999     Chennai   5  Dominic   \n2           104   Smartphone  Electronics  14999     Klokata   6    Tyler   \n3           106          Oil      Grocery    110     Chennai   3     Cory   \n4           107       Laptop  Electronics  79999   Bengalore   9   Jeremy   \n\n   Age  Product_ID_y Purchased_Product       City  \n0   20           101             Watch     Mumbai  \n1   30           103             Shoes    Chennai  \n2   65           104        Smartphone      Delhi  \n3   15           106               Oil  Bangalore  \n4   23           107            Laptop     Mumbai  ",
      "text/html": "<div>\n<style scoped>\n    .dataframe tbody tr th:only-of-type {\n        vertical-align: middle;\n    }\n\n    .dataframe tbody tr th {\n        vertical-align: top;\n    }\n\n    .dataframe thead th {\n        text-align: right;\n    }\n</style>\n<table border=\"1\" class=\"dataframe\">\n  <thead>\n    <tr style=\"text-align: right;\">\n      <th></th>\n      <th>Product_ID_x</th>\n      <th>Product_Name</th>\n      <th>Category</th>\n      <th>Price</th>\n      <th>Seller_City</th>\n      <th>ID</th>\n      <th>Name</th>\n      <th>Age</th>\n      <th>Product_ID_y</th>\n      <th>Purchased_Product</th>\n      <th>City</th>\n    </tr>\n  </thead>\n  <tbody>\n    <tr>\n      <th>0</th>\n      <td>101</td>\n      <td>Watch</td>\n      <td>Fashion</td>\n      <td>299</td>\n      <td>Delhi</td>\n      <td>1</td>\n      <td>Olivia</td>\n      <td>20</td>\n      <td>101</td>\n      <td>Watch</td>\n      <td>Mumbai</td>\n    </tr>\n    <tr>\n      <th>1</th>\n      <td>103</td>\n      <td>Shoes</td>\n      <td>Fashion</td>\n      <td>2999</td>\n      <td>Chennai</td>\n      <td>5</td>\n      <td>Dominic</td>\n      <td>30</td>\n      <td>103</td>\n      <td>Shoes</td>\n      <td>Chennai</td>\n    </tr>\n    <tr>\n      <th>2</th>\n      <td>104</td>\n      <td>Smartphone</td>\n      <td>Electronics</td>\n      <td>14999</td>\n      <td>Klokata</td>\n      <td>6</td>\n      <td>Tyler</td>\n      <td>65</td>\n      <td>104</td>\n      <td>Smartphone</td>\n      <td>Delhi</td>\n    </tr>\n    <tr>\n      <th>3</th>\n      <td>106</td>\n      <td>Oil</td>\n      <td>Grocery</td>\n      <td>110</td>\n      <td>Chennai</td>\n      <td>3</td>\n      <td>Cory</td>\n      <td>15</td>\n      <td>106</td>\n      <td>Oil</td>\n      <td>Bangalore</td>\n    </tr>\n    <tr>\n      <th>4</th>\n      <td>107</td>\n      <td>Laptop</td>\n      <td>Electronics</td>\n      <td>79999</td>\n      <td>Bengalore</td>\n      <td>9</td>\n      <td>Jeremy</td>\n      <td>23</td>\n      <td>107</td>\n      <td>Laptop</td>\n      <td>Mumbai</td>\n    </tr>\n  </tbody>\n</table>\n</div>"
     },
     "execution_count": 107,
     "metadata": {},
     "output_type": "execute_result"
    }
   ],
   "source": [
    "pd.merge(product_df,customer_df,left_on='Product_Name',right_on='Purchased_Product')"
   ],
   "metadata": {
    "collapsed": false,
    "ExecuteTime": {
     "end_time": "2024-11-13T18:03:53.277052500Z",
     "start_time": "2024-11-13T18:03:53.235918300Z"
    }
   },
   "id": "d1a0241092471d52"
  },
  {
   "cell_type": "markdown",
   "source": [
    "## Full Merge\n",
    "- how (outer,inner)\n",
    "- on"
   ],
   "metadata": {
    "collapsed": false
   },
   "id": "ab5969e24146208"
  },
  {
   "cell_type": "code",
   "execution_count": 131,
   "outputs": [
    {
     "data": {
      "text/plain": "    Product_ID Product_Name     Category    Price Seller_City   ID     Name  \\\n0            0          NaN          NaN      NaN         NaN  2.0   Aditya   \n1            0          NaN          NaN      NaN         NaN  4.0  Isabell   \n2            0          NaN          NaN      NaN         NaN  7.0   Samuel   \n3            0          NaN          NaN      NaN         NaN  8.0   Daniel   \n4          101        Watch      Fashion    299.0       Delhi  1.0   Olivia   \n5          102          Bag      Fashion   1350.0      Mumbai  NaN      NaN   \n6          103        Shoes      Fashion   2999.0     Chennai  5.0  Dominic   \n7          104   Smartphone  Electronics  14999.0     Klokata  6.0    Tyler   \n8          105        Books        Study    145.0       Delhi  NaN      NaN   \n9          106          Oil      Grocery    110.0     Chennai  3.0     Cory   \n10         107       Laptop  Electronics  79999.0   Bengalore  9.0   Jeremy   \n\n     Age Purchased_Product       City  \n0   25.0                Na      Delhi  \n1   10.0               NaN    Chennai  \n2   35.0               NaN    Kolkata  \n3   18.0               NaN      Delhi  \n4   20.0             Watch     Mumbai  \n5    NaN               NaN        NaN  \n6   30.0             Shoes    Chennai  \n7   65.0        Smartphone      Delhi  \n8    NaN               NaN        NaN  \n9   15.0               Oil  Bangalore  \n10  23.0            Laptop     Mumbai  ",
      "text/html": "<div>\n<style scoped>\n    .dataframe tbody tr th:only-of-type {\n        vertical-align: middle;\n    }\n\n    .dataframe tbody tr th {\n        vertical-align: top;\n    }\n\n    .dataframe thead th {\n        text-align: right;\n    }\n</style>\n<table border=\"1\" class=\"dataframe\">\n  <thead>\n    <tr style=\"text-align: right;\">\n      <th></th>\n      <th>Product_ID</th>\n      <th>Product_Name</th>\n      <th>Category</th>\n      <th>Price</th>\n      <th>Seller_City</th>\n      <th>ID</th>\n      <th>Name</th>\n      <th>Age</th>\n      <th>Purchased_Product</th>\n      <th>City</th>\n    </tr>\n  </thead>\n  <tbody>\n    <tr>\n      <th>0</th>\n      <td>0</td>\n      <td>NaN</td>\n      <td>NaN</td>\n      <td>NaN</td>\n      <td>NaN</td>\n      <td>2.0</td>\n      <td>Aditya</td>\n      <td>25.0</td>\n      <td>Na</td>\n      <td>Delhi</td>\n    </tr>\n    <tr>\n      <th>1</th>\n      <td>0</td>\n      <td>NaN</td>\n      <td>NaN</td>\n      <td>NaN</td>\n      <td>NaN</td>\n      <td>4.0</td>\n      <td>Isabell</td>\n      <td>10.0</td>\n      <td>NaN</td>\n      <td>Chennai</td>\n    </tr>\n    <tr>\n      <th>2</th>\n      <td>0</td>\n      <td>NaN</td>\n      <td>NaN</td>\n      <td>NaN</td>\n      <td>NaN</td>\n      <td>7.0</td>\n      <td>Samuel</td>\n      <td>35.0</td>\n      <td>NaN</td>\n      <td>Kolkata</td>\n    </tr>\n    <tr>\n      <th>3</th>\n      <td>0</td>\n      <td>NaN</td>\n      <td>NaN</td>\n      <td>NaN</td>\n      <td>NaN</td>\n      <td>8.0</td>\n      <td>Daniel</td>\n      <td>18.0</td>\n      <td>NaN</td>\n      <td>Delhi</td>\n    </tr>\n    <tr>\n      <th>4</th>\n      <td>101</td>\n      <td>Watch</td>\n      <td>Fashion</td>\n      <td>299.0</td>\n      <td>Delhi</td>\n      <td>1.0</td>\n      <td>Olivia</td>\n      <td>20.0</td>\n      <td>Watch</td>\n      <td>Mumbai</td>\n    </tr>\n    <tr>\n      <th>5</th>\n      <td>102</td>\n      <td>Bag</td>\n      <td>Fashion</td>\n      <td>1350.0</td>\n      <td>Mumbai</td>\n      <td>NaN</td>\n      <td>NaN</td>\n      <td>NaN</td>\n      <td>NaN</td>\n      <td>NaN</td>\n    </tr>\n    <tr>\n      <th>6</th>\n      <td>103</td>\n      <td>Shoes</td>\n      <td>Fashion</td>\n      <td>2999.0</td>\n      <td>Chennai</td>\n      <td>5.0</td>\n      <td>Dominic</td>\n      <td>30.0</td>\n      <td>Shoes</td>\n      <td>Chennai</td>\n    </tr>\n    <tr>\n      <th>7</th>\n      <td>104</td>\n      <td>Smartphone</td>\n      <td>Electronics</td>\n      <td>14999.0</td>\n      <td>Klokata</td>\n      <td>6.0</td>\n      <td>Tyler</td>\n      <td>65.0</td>\n      <td>Smartphone</td>\n      <td>Delhi</td>\n    </tr>\n    <tr>\n      <th>8</th>\n      <td>105</td>\n      <td>Books</td>\n      <td>Study</td>\n      <td>145.0</td>\n      <td>Delhi</td>\n      <td>NaN</td>\n      <td>NaN</td>\n      <td>NaN</td>\n      <td>NaN</td>\n      <td>NaN</td>\n    </tr>\n    <tr>\n      <th>9</th>\n      <td>106</td>\n      <td>Oil</td>\n      <td>Grocery</td>\n      <td>110.0</td>\n      <td>Chennai</td>\n      <td>3.0</td>\n      <td>Cory</td>\n      <td>15.0</td>\n      <td>Oil</td>\n      <td>Bangalore</td>\n    </tr>\n    <tr>\n      <th>10</th>\n      <td>107</td>\n      <td>Laptop</td>\n      <td>Electronics</td>\n      <td>79999.0</td>\n      <td>Bengalore</td>\n      <td>9.0</td>\n      <td>Jeremy</td>\n      <td>23.0</td>\n      <td>Laptop</td>\n      <td>Mumbai</td>\n    </tr>\n  </tbody>\n</table>\n</div>"
     },
     "execution_count": 131,
     "metadata": {},
     "output_type": "execute_result"
    }
   ],
   "source": [
    "pd.merge(product_df,customer_df,on='Product_ID',how='outer')"
   ],
   "metadata": {
    "collapsed": false,
    "ExecuteTime": {
     "end_time": "2024-11-13T18:40:04.786424900Z",
     "start_time": "2024-11-13T18:40:04.753165100Z"
    }
   },
   "id": "9cb08797a47ac9a7"
  },
  {
   "cell_type": "markdown",
   "source": [
    "- indicator"
   ],
   "metadata": {
    "collapsed": false
   },
   "id": "b71bf27c07968c3f"
  },
  {
   "cell_type": "code",
   "execution_count": null,
   "outputs": [],
   "source": [
    "mdf = pd.merge(product_df,customer_df,on='Product_ID',how='outer',indicator=True)\n",
    "mdf"
   ],
   "metadata": {
    "collapsed": false
   },
   "id": "3032f82945bddb22"
  },
  {
   "cell_type": "markdown",
   "source": [
    "- validate (pre-process)"
   ],
   "metadata": {
    "collapsed": false
   },
   "id": "e47886a6b8a97a5e"
  },
  {
   "cell_type": "code",
   "execution_count": 142,
   "outputs": [
    {
     "data": {
      "text/plain": "    Product_ID Product_Name     Category    Price Seller_City   ID     Name  \\\n0            0          NaN          NaN      NaN         NaN  2.0   Aditya   \n1            0          NaN          NaN      NaN         NaN  4.0  Isabell   \n2            0          NaN          NaN      NaN         NaN  7.0   Samuel   \n3            0          NaN          NaN      NaN         NaN  8.0   Daniel   \n4          101        Watch      Fashion    299.0       Delhi  1.0   Olivia   \n5          102          Bag      Fashion   1350.0      Mumbai  NaN      NaN   \n6          103        Shoes      Fashion   2999.0     Chennai  5.0  Dominic   \n7          104   Smartphone  Electronics  14999.0     Klokata  6.0    Tyler   \n8          105        Books        Study    145.0       Delhi  NaN      NaN   \n9          106          Oil      Grocery    110.0     Chennai  3.0     Cory   \n10         107       Laptop  Electronics  79999.0   Bengalore  9.0   Jeremy   \n\n     Age Purchased_Product       City  \n0   25.0                Na      Delhi  \n1   10.0               NaN    Chennai  \n2   35.0               NaN    Kolkata  \n3   18.0               NaN      Delhi  \n4   20.0             Watch     Mumbai  \n5    NaN               NaN        NaN  \n6   30.0             Shoes    Chennai  \n7   65.0        Smartphone      Delhi  \n8    NaN               NaN        NaN  \n9   15.0               Oil  Bangalore  \n10  23.0            Laptop     Mumbai  ",
      "text/html": "<div>\n<style scoped>\n    .dataframe tbody tr th:only-of-type {\n        vertical-align: middle;\n    }\n\n    .dataframe tbody tr th {\n        vertical-align: top;\n    }\n\n    .dataframe thead th {\n        text-align: right;\n    }\n</style>\n<table border=\"1\" class=\"dataframe\">\n  <thead>\n    <tr style=\"text-align: right;\">\n      <th></th>\n      <th>Product_ID</th>\n      <th>Product_Name</th>\n      <th>Category</th>\n      <th>Price</th>\n      <th>Seller_City</th>\n      <th>ID</th>\n      <th>Name</th>\n      <th>Age</th>\n      <th>Purchased_Product</th>\n      <th>City</th>\n    </tr>\n  </thead>\n  <tbody>\n    <tr>\n      <th>0</th>\n      <td>0</td>\n      <td>NaN</td>\n      <td>NaN</td>\n      <td>NaN</td>\n      <td>NaN</td>\n      <td>2.0</td>\n      <td>Aditya</td>\n      <td>25.0</td>\n      <td>Na</td>\n      <td>Delhi</td>\n    </tr>\n    <tr>\n      <th>1</th>\n      <td>0</td>\n      <td>NaN</td>\n      <td>NaN</td>\n      <td>NaN</td>\n      <td>NaN</td>\n      <td>4.0</td>\n      <td>Isabell</td>\n      <td>10.0</td>\n      <td>NaN</td>\n      <td>Chennai</td>\n    </tr>\n    <tr>\n      <th>2</th>\n      <td>0</td>\n      <td>NaN</td>\n      <td>NaN</td>\n      <td>NaN</td>\n      <td>NaN</td>\n      <td>7.0</td>\n      <td>Samuel</td>\n      <td>35.0</td>\n      <td>NaN</td>\n      <td>Kolkata</td>\n    </tr>\n    <tr>\n      <th>3</th>\n      <td>0</td>\n      <td>NaN</td>\n      <td>NaN</td>\n      <td>NaN</td>\n      <td>NaN</td>\n      <td>8.0</td>\n      <td>Daniel</td>\n      <td>18.0</td>\n      <td>NaN</td>\n      <td>Delhi</td>\n    </tr>\n    <tr>\n      <th>4</th>\n      <td>101</td>\n      <td>Watch</td>\n      <td>Fashion</td>\n      <td>299.0</td>\n      <td>Delhi</td>\n      <td>1.0</td>\n      <td>Olivia</td>\n      <td>20.0</td>\n      <td>Watch</td>\n      <td>Mumbai</td>\n    </tr>\n    <tr>\n      <th>5</th>\n      <td>102</td>\n      <td>Bag</td>\n      <td>Fashion</td>\n      <td>1350.0</td>\n      <td>Mumbai</td>\n      <td>NaN</td>\n      <td>NaN</td>\n      <td>NaN</td>\n      <td>NaN</td>\n      <td>NaN</td>\n    </tr>\n    <tr>\n      <th>6</th>\n      <td>103</td>\n      <td>Shoes</td>\n      <td>Fashion</td>\n      <td>2999.0</td>\n      <td>Chennai</td>\n      <td>5.0</td>\n      <td>Dominic</td>\n      <td>30.0</td>\n      <td>Shoes</td>\n      <td>Chennai</td>\n    </tr>\n    <tr>\n      <th>7</th>\n      <td>104</td>\n      <td>Smartphone</td>\n      <td>Electronics</td>\n      <td>14999.0</td>\n      <td>Klokata</td>\n      <td>6.0</td>\n      <td>Tyler</td>\n      <td>65.0</td>\n      <td>Smartphone</td>\n      <td>Delhi</td>\n    </tr>\n    <tr>\n      <th>8</th>\n      <td>105</td>\n      <td>Books</td>\n      <td>Study</td>\n      <td>145.0</td>\n      <td>Delhi</td>\n      <td>NaN</td>\n      <td>NaN</td>\n      <td>NaN</td>\n      <td>NaN</td>\n      <td>NaN</td>\n    </tr>\n    <tr>\n      <th>9</th>\n      <td>106</td>\n      <td>Oil</td>\n      <td>Grocery</td>\n      <td>110.0</td>\n      <td>Chennai</td>\n      <td>3.0</td>\n      <td>Cory</td>\n      <td>15.0</td>\n      <td>Oil</td>\n      <td>Bangalore</td>\n    </tr>\n    <tr>\n      <th>10</th>\n      <td>107</td>\n      <td>Laptop</td>\n      <td>Electronics</td>\n      <td>79999.0</td>\n      <td>Bengalore</td>\n      <td>9.0</td>\n      <td>Jeremy</td>\n      <td>23.0</td>\n      <td>Laptop</td>\n      <td>Mumbai</td>\n    </tr>\n  </tbody>\n</table>\n</div>"
     },
     "execution_count": 142,
     "metadata": {},
     "output_type": "execute_result"
    }
   ],
   "source": [
    "# mdf_oneToOne = pd.merge(product_df,customer_df,on='Product_ID',how='outer',validate='1:1')\n",
    "# mdf_oneToOne\n",
    "mdf_oneToMany = pd.merge(product_df,customer_df,on='Product_ID',how='outer',validate='1:m')\n",
    "mdf_oneToMany"
   ],
   "metadata": {
    "collapsed": false,
    "ExecuteTime": {
     "end_time": "2024-11-13T18:48:26.336707900Z",
     "start_time": "2024-11-13T18:48:26.297946300Z"
    }
   },
   "id": "5507782bad2684d3"
  },
  {
   "cell_type": "code",
   "execution_count": 127,
   "outputs": [
    {
     "data": {
      "text/plain": "   Product_ID Product_Name     Category  Price Seller_City  ID     Name  Age  \\\n0         101        Watch      Fashion    299       Delhi   1   Olivia   20   \n1         103        Shoes      Fashion   2999     Chennai   5  Dominic   30   \n2         104   Smartphone  Electronics  14999     Klokata   6    Tyler   65   \n3         106          Oil      Grocery    110     Chennai   3     Cory   15   \n4         107       Laptop  Electronics  79999   Bengalore   9   Jeremy   23   \n\n  Purchased_Product       City  \n0             Watch     Mumbai  \n1             Shoes    Chennai  \n2        Smartphone      Delhi  \n3               Oil  Bangalore  \n4            Laptop     Mumbai  ",
      "text/html": "<div>\n<style scoped>\n    .dataframe tbody tr th:only-of-type {\n        vertical-align: middle;\n    }\n\n    .dataframe tbody tr th {\n        vertical-align: top;\n    }\n\n    .dataframe thead th {\n        text-align: right;\n    }\n</style>\n<table border=\"1\" class=\"dataframe\">\n  <thead>\n    <tr style=\"text-align: right;\">\n      <th></th>\n      <th>Product_ID</th>\n      <th>Product_Name</th>\n      <th>Category</th>\n      <th>Price</th>\n      <th>Seller_City</th>\n      <th>ID</th>\n      <th>Name</th>\n      <th>Age</th>\n      <th>Purchased_Product</th>\n      <th>City</th>\n    </tr>\n  </thead>\n  <tbody>\n    <tr>\n      <th>0</th>\n      <td>101</td>\n      <td>Watch</td>\n      <td>Fashion</td>\n      <td>299</td>\n      <td>Delhi</td>\n      <td>1</td>\n      <td>Olivia</td>\n      <td>20</td>\n      <td>Watch</td>\n      <td>Mumbai</td>\n    </tr>\n    <tr>\n      <th>1</th>\n      <td>103</td>\n      <td>Shoes</td>\n      <td>Fashion</td>\n      <td>2999</td>\n      <td>Chennai</td>\n      <td>5</td>\n      <td>Dominic</td>\n      <td>30</td>\n      <td>Shoes</td>\n      <td>Chennai</td>\n    </tr>\n    <tr>\n      <th>2</th>\n      <td>104</td>\n      <td>Smartphone</td>\n      <td>Electronics</td>\n      <td>14999</td>\n      <td>Klokata</td>\n      <td>6</td>\n      <td>Tyler</td>\n      <td>65</td>\n      <td>Smartphone</td>\n      <td>Delhi</td>\n    </tr>\n    <tr>\n      <th>3</th>\n      <td>106</td>\n      <td>Oil</td>\n      <td>Grocery</td>\n      <td>110</td>\n      <td>Chennai</td>\n      <td>3</td>\n      <td>Cory</td>\n      <td>15</td>\n      <td>Oil</td>\n      <td>Bangalore</td>\n    </tr>\n    <tr>\n      <th>4</th>\n      <td>107</td>\n      <td>Laptop</td>\n      <td>Electronics</td>\n      <td>79999</td>\n      <td>Bengalore</td>\n      <td>9</td>\n      <td>Jeremy</td>\n      <td>23</td>\n      <td>Laptop</td>\n      <td>Mumbai</td>\n    </tr>\n  </tbody>\n</table>\n</div>"
     },
     "execution_count": 127,
     "metadata": {},
     "output_type": "execute_result"
    }
   ],
   "source": [
    "pd.merge(product_df,customer_df,on='Product_ID',how='inner')"
   ],
   "metadata": {
    "collapsed": false,
    "ExecuteTime": {
     "end_time": "2024-11-13T18:35:17.056615Z",
     "start_time": "2024-11-13T18:35:17.040030Z"
    }
   },
   "id": "8416cdacf1616294"
  },
  {
   "cell_type": "markdown",
   "source": [
    "### Left Merge\n",
    "- on\n",
    "- how"
   ],
   "metadata": {
    "collapsed": false
   },
   "id": "4b93d33b5cf77797"
  },
  {
   "cell_type": "code",
   "execution_count": 115,
   "outputs": [
    {
     "data": {
      "text/plain": "   Product_ID Product_Name     Category  Price Seller_City   ID     Name  \\\n0         101        Watch      Fashion    299       Delhi  1.0   Olivia   \n1         102          Bag      Fashion   1350      Mumbai  NaN      NaN   \n2         103        Shoes      Fashion   2999     Chennai  5.0  Dominic   \n3         104   Smartphone  Electronics  14999     Klokata  6.0    Tyler   \n4         105        Books        Study    145       Delhi  NaN      NaN   \n5         106          Oil      Grocery    110     Chennai  3.0     Cory   \n6         107       Laptop  Electronics  79999   Bengalore  9.0   Jeremy   \n\n    Age Purchased_Product       City  \n0  20.0             Watch     Mumbai  \n1   NaN               NaN        NaN  \n2  30.0             Shoes    Chennai  \n3  65.0        Smartphone      Delhi  \n4   NaN               NaN        NaN  \n5  15.0               Oil  Bangalore  \n6  23.0            Laptop     Mumbai  ",
      "text/html": "<div>\n<style scoped>\n    .dataframe tbody tr th:only-of-type {\n        vertical-align: middle;\n    }\n\n    .dataframe tbody tr th {\n        vertical-align: top;\n    }\n\n    .dataframe thead th {\n        text-align: right;\n    }\n</style>\n<table border=\"1\" class=\"dataframe\">\n  <thead>\n    <tr style=\"text-align: right;\">\n      <th></th>\n      <th>Product_ID</th>\n      <th>Product_Name</th>\n      <th>Category</th>\n      <th>Price</th>\n      <th>Seller_City</th>\n      <th>ID</th>\n      <th>Name</th>\n      <th>Age</th>\n      <th>Purchased_Product</th>\n      <th>City</th>\n    </tr>\n  </thead>\n  <tbody>\n    <tr>\n      <th>0</th>\n      <td>101</td>\n      <td>Watch</td>\n      <td>Fashion</td>\n      <td>299</td>\n      <td>Delhi</td>\n      <td>1.0</td>\n      <td>Olivia</td>\n      <td>20.0</td>\n      <td>Watch</td>\n      <td>Mumbai</td>\n    </tr>\n    <tr>\n      <th>1</th>\n      <td>102</td>\n      <td>Bag</td>\n      <td>Fashion</td>\n      <td>1350</td>\n      <td>Mumbai</td>\n      <td>NaN</td>\n      <td>NaN</td>\n      <td>NaN</td>\n      <td>NaN</td>\n      <td>NaN</td>\n    </tr>\n    <tr>\n      <th>2</th>\n      <td>103</td>\n      <td>Shoes</td>\n      <td>Fashion</td>\n      <td>2999</td>\n      <td>Chennai</td>\n      <td>5.0</td>\n      <td>Dominic</td>\n      <td>30.0</td>\n      <td>Shoes</td>\n      <td>Chennai</td>\n    </tr>\n    <tr>\n      <th>3</th>\n      <td>104</td>\n      <td>Smartphone</td>\n      <td>Electronics</td>\n      <td>14999</td>\n      <td>Klokata</td>\n      <td>6.0</td>\n      <td>Tyler</td>\n      <td>65.0</td>\n      <td>Smartphone</td>\n      <td>Delhi</td>\n    </tr>\n    <tr>\n      <th>4</th>\n      <td>105</td>\n      <td>Books</td>\n      <td>Study</td>\n      <td>145</td>\n      <td>Delhi</td>\n      <td>NaN</td>\n      <td>NaN</td>\n      <td>NaN</td>\n      <td>NaN</td>\n      <td>NaN</td>\n    </tr>\n    <tr>\n      <th>5</th>\n      <td>106</td>\n      <td>Oil</td>\n      <td>Grocery</td>\n      <td>110</td>\n      <td>Chennai</td>\n      <td>3.0</td>\n      <td>Cory</td>\n      <td>15.0</td>\n      <td>Oil</td>\n      <td>Bangalore</td>\n    </tr>\n    <tr>\n      <th>6</th>\n      <td>107</td>\n      <td>Laptop</td>\n      <td>Electronics</td>\n      <td>79999</td>\n      <td>Bengalore</td>\n      <td>9.0</td>\n      <td>Jeremy</td>\n      <td>23.0</td>\n      <td>Laptop</td>\n      <td>Mumbai</td>\n    </tr>\n  </tbody>\n</table>\n</div>"
     },
     "execution_count": 115,
     "metadata": {},
     "output_type": "execute_result"
    }
   ],
   "source": [
    "pd.merge(product_df,customer_df,on='Product_ID',how='left')"
   ],
   "metadata": {
    "collapsed": false,
    "ExecuteTime": {
     "end_time": "2024-11-13T18:12:37.925788600Z",
     "start_time": "2024-11-13T18:12:37.887022100Z"
    }
   },
   "id": "ccf1742d976bab25"
  },
  {
   "cell_type": "markdown",
   "source": [
    "### Right Merge\n",
    "- on\n",
    "- how"
   ],
   "metadata": {
    "collapsed": false
   },
   "id": "1549a8aba91044e5"
  },
  {
   "cell_type": "code",
   "execution_count": 118,
   "outputs": [
    {
     "data": {
      "text/plain": "   Product_ID Product_Name     Category    Price Seller_City  ID     Name  \\\n0         101        Watch      Fashion    299.0       Delhi   1   Olivia   \n1           0          NaN          NaN      NaN         NaN   2   Aditya   \n2         106          Oil      Grocery    110.0     Chennai   3     Cory   \n3           0          NaN          NaN      NaN         NaN   4  Isabell   \n4         103        Shoes      Fashion   2999.0     Chennai   5  Dominic   \n5         104   Smartphone  Electronics  14999.0     Klokata   6    Tyler   \n6           0          NaN          NaN      NaN         NaN   7   Samuel   \n7           0          NaN          NaN      NaN         NaN   8   Daniel   \n8         107       Laptop  Electronics  79999.0   Bengalore   9   Jeremy   \n\n   Age Purchased_Product       City  \n0   20             Watch     Mumbai  \n1   25                Na      Delhi  \n2   15               Oil  Bangalore  \n3   10               NaN    Chennai  \n4   30             Shoes    Chennai  \n5   65        Smartphone      Delhi  \n6   35               NaN    Kolkata  \n7   18               NaN      Delhi  \n8   23            Laptop     Mumbai  ",
      "text/html": "<div>\n<style scoped>\n    .dataframe tbody tr th:only-of-type {\n        vertical-align: middle;\n    }\n\n    .dataframe tbody tr th {\n        vertical-align: top;\n    }\n\n    .dataframe thead th {\n        text-align: right;\n    }\n</style>\n<table border=\"1\" class=\"dataframe\">\n  <thead>\n    <tr style=\"text-align: right;\">\n      <th></th>\n      <th>Product_ID</th>\n      <th>Product_Name</th>\n      <th>Category</th>\n      <th>Price</th>\n      <th>Seller_City</th>\n      <th>ID</th>\n      <th>Name</th>\n      <th>Age</th>\n      <th>Purchased_Product</th>\n      <th>City</th>\n    </tr>\n  </thead>\n  <tbody>\n    <tr>\n      <th>0</th>\n      <td>101</td>\n      <td>Watch</td>\n      <td>Fashion</td>\n      <td>299.0</td>\n      <td>Delhi</td>\n      <td>1</td>\n      <td>Olivia</td>\n      <td>20</td>\n      <td>Watch</td>\n      <td>Mumbai</td>\n    </tr>\n    <tr>\n      <th>1</th>\n      <td>0</td>\n      <td>NaN</td>\n      <td>NaN</td>\n      <td>NaN</td>\n      <td>NaN</td>\n      <td>2</td>\n      <td>Aditya</td>\n      <td>25</td>\n      <td>Na</td>\n      <td>Delhi</td>\n    </tr>\n    <tr>\n      <th>2</th>\n      <td>106</td>\n      <td>Oil</td>\n      <td>Grocery</td>\n      <td>110.0</td>\n      <td>Chennai</td>\n      <td>3</td>\n      <td>Cory</td>\n      <td>15</td>\n      <td>Oil</td>\n      <td>Bangalore</td>\n    </tr>\n    <tr>\n      <th>3</th>\n      <td>0</td>\n      <td>NaN</td>\n      <td>NaN</td>\n      <td>NaN</td>\n      <td>NaN</td>\n      <td>4</td>\n      <td>Isabell</td>\n      <td>10</td>\n      <td>NaN</td>\n      <td>Chennai</td>\n    </tr>\n    <tr>\n      <th>4</th>\n      <td>103</td>\n      <td>Shoes</td>\n      <td>Fashion</td>\n      <td>2999.0</td>\n      <td>Chennai</td>\n      <td>5</td>\n      <td>Dominic</td>\n      <td>30</td>\n      <td>Shoes</td>\n      <td>Chennai</td>\n    </tr>\n    <tr>\n      <th>5</th>\n      <td>104</td>\n      <td>Smartphone</td>\n      <td>Electronics</td>\n      <td>14999.0</td>\n      <td>Klokata</td>\n      <td>6</td>\n      <td>Tyler</td>\n      <td>65</td>\n      <td>Smartphone</td>\n      <td>Delhi</td>\n    </tr>\n    <tr>\n      <th>6</th>\n      <td>0</td>\n      <td>NaN</td>\n      <td>NaN</td>\n      <td>NaN</td>\n      <td>NaN</td>\n      <td>7</td>\n      <td>Samuel</td>\n      <td>35</td>\n      <td>NaN</td>\n      <td>Kolkata</td>\n    </tr>\n    <tr>\n      <th>7</th>\n      <td>0</td>\n      <td>NaN</td>\n      <td>NaN</td>\n      <td>NaN</td>\n      <td>NaN</td>\n      <td>8</td>\n      <td>Daniel</td>\n      <td>18</td>\n      <td>NaN</td>\n      <td>Delhi</td>\n    </tr>\n    <tr>\n      <th>8</th>\n      <td>107</td>\n      <td>Laptop</td>\n      <td>Electronics</td>\n      <td>79999.0</td>\n      <td>Bengalore</td>\n      <td>9</td>\n      <td>Jeremy</td>\n      <td>23</td>\n      <td>Laptop</td>\n      <td>Mumbai</td>\n    </tr>\n  </tbody>\n</table>\n</div>"
     },
     "execution_count": 118,
     "metadata": {},
     "output_type": "execute_result"
    }
   ],
   "source": [
    "pd.merge(product_df,customer_df,on='Product_ID',how='right')"
   ],
   "metadata": {
    "collapsed": false,
    "ExecuteTime": {
     "end_time": "2024-11-13T18:16:19.998551100Z",
     "start_time": "2024-11-13T18:16:19.961895400Z"
    }
   },
   "id": "7abd9538fbfb5f50"
  },
  {
   "cell_type": "code",
   "execution_count": null,
   "outputs": [],
   "source": [],
   "metadata": {
    "collapsed": false
   },
   "id": "5b9a1051d38b42f1"
  },
  {
   "cell_type": "markdown",
   "source": [
    "# 1. Read abount Concantenation (HomeWork)"
   ],
   "metadata": {
    "collapsed": false
   },
   "id": "c89295f6e91e709d"
  },
  {
   "cell_type": "markdown",
   "source": [
    "# 2. Given the bellow dataset , Calculate the Revenue of the country\n",
    "- https://github.com/Kundan-Rwanda/sample-sales-data\n",
    "- use merge\n"
   ],
   "metadata": {
    "collapsed": false
   },
   "id": "193b985b87cbabde"
  }
 ],
 "metadata": {
  "kernelspec": {
   "display_name": "Python 3",
   "language": "python",
   "name": "python3"
  },
  "language_info": {
   "codemirror_mode": {
    "name": "ipython",
    "version": 2
   },
   "file_extension": ".py",
   "mimetype": "text/x-python",
   "name": "python",
   "nbconvert_exporter": "python",
   "pygments_lexer": "ipython2",
   "version": "2.7.6"
  }
 },
 "nbformat": 4,
 "nbformat_minor": 5
}

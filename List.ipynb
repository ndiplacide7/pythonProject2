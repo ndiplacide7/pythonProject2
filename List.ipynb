{
 "cells": [
  {
   "cell_type": "code",
   "execution_count": null,
   "id": "initial_id",
   "metadata": {
    "collapsed": true
   },
   "outputs": [],
   "source": []
  },
  {
   "cell_type": "code",
   "execution_count": 6,
   "outputs": [
    {
     "name": "stdout",
     "output_type": "stream",
     "text": [
      "[2, 5, 8]\n",
      "15\n"
     ]
    }
   ],
   "source": [
    "myList = [2, 3, 5, 6, 8, 9]\n",
    "newList = myList[::2]\n",
    "\n",
    "print(newList)\n",
    "sum = 0\n",
    "for item in newList:\n",
    "    sum = sum + item\n",
    "print(sum)\n",
    "        "
   ],
   "metadata": {
    "collapsed": false,
    "ExecuteTime": {
     "end_time": "2024-11-06T18:38:24.215983300Z",
     "start_time": "2024-11-06T18:38:24.190113800Z"
    }
   },
   "id": "66db84e758b14d09"
  },
  {
   "cell_type": "code",
   "execution_count": 7,
   "outputs": [
    {
     "name": "stdout",
     "output_type": "stream",
     "text": [
      "2\n",
      "5\n",
      "8\n",
      "23\n"
     ]
    }
   ],
   "source": [
    "myList = [2, 3, 5, 6, 8, 9]\n",
    "\n",
    "summ = 0\n",
    "for i in range(len(myList)):\n",
    "    if i==0 or i==2 or i==4:\n",
    "        print(myList[i])\n",
    "        summ = sum + myList[i]\n",
    "print(summ)"
   ],
   "metadata": {
    "collapsed": false,
    "ExecuteTime": {
     "end_time": "2024-11-06T18:38:40.964408200Z",
     "start_time": "2024-11-06T18:38:40.912838400Z"
    }
   },
   "id": "3ad4d0326e2889"
  },
  {
   "cell_type": "code",
   "execution_count": 16,
   "outputs": [
    {
     "name": "stdout",
     "output_type": "stream",
     "text": [
      "ram\n",
      "shyam\n",
      "sita\n",
      "geeta\n",
      "laxmi\n",
      ".....................done...........\n"
     ]
    }
   ],
   "source": [
    "student_list=[\"ram\",\"shyam\",\"sita\",\"geeta\",\"laxmi\"]\n",
    "for student in student_list:\n",
    "    print(student)\n",
    "else:\n",
    "    print(\".....................done...........\")    "
   ],
   "metadata": {
    "collapsed": false,
    "ExecuteTime": {
     "end_time": "2024-11-06T18:43:19.743713Z",
     "start_time": "2024-11-06T18:43:19.726772900Z"
    }
   },
   "id": "8b0353b088766768"
  },
  {
   "cell_type": "code",
   "execution_count": 22,
   "outputs": [
    {
     "name": "stdout",
     "output_type": "stream",
     "text": [
      "0\n",
      "1\n",
      "2\n",
      "3\n",
      "4\n"
     ]
    }
   ],
   "source": [
    "i = 0\n",
    "while i < 5:\n",
    "    print(i)\n",
    "    i = i + 1"
   ],
   "metadata": {
    "collapsed": false,
    "ExecuteTime": {
     "end_time": "2024-11-06T18:51:33.497446600Z",
     "start_time": "2024-11-06T18:51:33.465672700Z"
    }
   },
   "id": "661d302e50c21c9d"
  }
 ],
 "metadata": {
  "kernelspec": {
   "display_name": "Python 3",
   "language": "python",
   "name": "python3"
  },
  "language_info": {
   "codemirror_mode": {
    "name": "ipython",
    "version": 2
   },
   "file_extension": ".py",
   "mimetype": "text/x-python",
   "name": "python",
   "nbconvert_exporter": "python",
   "pygments_lexer": "ipython2",
   "version": "2.7.6"
  }
 },
 "nbformat": 4,
 "nbformat_minor": 5
}

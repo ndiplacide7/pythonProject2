{
 "cells": [
  {
   "cell_type": "markdown",
   "source": [
    "## PYTHON PROGRAM TO FILTER OUT INAPPROPRIATE WORDS FROM A LIST\n",
    "## NAME  : NDUWAYEZU Placide\n",
    "## RegNo : 223027936 \n",
    "## ASSIGNMENT : 1"
   ],
   "metadata": {
    "collapsed": false
   },
   "id": "33dbe132f99c3497"
  },
  {
   "cell_type": "code",
   "execution_count": 64,
   "outputs": [],
   "source": [
    "# Objective: Provide a list of words, some of which may be inappropriate (e.g., \"forbidden\",\"confidential\", \"prohibited\", \"secret\", \"banned\", \"restricted\", \"private\"). You have to write a program to iterate over the list, printing each word except those that are inappropriate. If an inappropriate word is encountered, they should continue to skip it. If they encounter the word \"STOP,\" they should break out of the loop entirely.\n",
    "# \n",
    "# What you understand: You will understand the application of conditional statement, looping, break and continue in loops.\n",
    "# \n",
    "# Hints: Consider these two: \n",
    "# \n",
    "# # Creating List of words, including some specific inappropriate ones and a \"STOP\" word\n",
    "# list_of_words = [\"hello\", \"world\", \"confidential\", \"prohibited\", \"secret\", \"banned\", \"restricted\", \"private\", \"STOP\", \"learning\", \"python\"]\n",
    "# \n",
    "# # creating the list of inappropriate words\n",
    "# inappropriate_words = [\"confidential\", \"prohibited\", \"secret\", \"banned\", \"restricted\", \"private\"]"
   ],
   "metadata": {
    "collapsed": false,
    "ExecuteTime": {
     "end_time": "2024-11-13T16:15:20.161598600Z",
     "start_time": "2024-11-13T16:15:20.145774900Z"
    }
   },
   "id": "d05dada3ffb536ab"
  },
  {
   "cell_type": "markdown",
   "source": [
    "#### Creating List of words, including some specific inappropriate ones and a \"STOP\" word"
   ],
   "metadata": {
    "collapsed": false
   },
   "id": "91d02d736f294567"
  },
  {
   "cell_type": "code",
   "execution_count": 65,
   "outputs": [
    {
     "name": "stdout",
     "output_type": "stream",
     "text": [
      "<class 'list'>\n"
     ]
    },
    {
     "data": {
      "text/plain": "['hello',\n 'world',\n 'confidential',\n 'prohibited',\n 'secret',\n 'banned',\n 'restricted',\n 'private',\n 'STOP',\n 'learning',\n 'python',\n 'is',\n 'fun']"
     },
     "execution_count": 65,
     "metadata": {},
     "output_type": "execute_result"
    }
   ],
   "source": [
    "list_of_words = [\"hello\", \"world\", \"confidential\", \"prohibited\", \"secret\", \"banned\", \"restricted\", \"private\", \"STOP\", \"learning\", \"python\", \"is\", \"fun\"]\n",
    "print(type(list_of_words))\n",
    "list_of_words"
   ],
   "metadata": {
    "collapsed": false,
    "ExecuteTime": {
     "end_time": "2024-11-13T16:15:20.207989400Z",
     "start_time": "2024-11-13T16:15:20.163643500Z"
    }
   },
   "id": "16da418357feb9d"
  },
  {
   "cell_type": "markdown",
   "source": [
    "#### Creating a list of inappropriate words"
   ],
   "metadata": {
    "collapsed": false
   },
   "id": "85f1bfbe5f00c86f"
  },
  {
   "cell_type": "code",
   "execution_count": 66,
   "outputs": [],
   "source": [
    "inappropriate_words = [\"confidential\", \"prohibited\", \"secret\", \"banned\", \"restricted\", \"private\"]"
   ],
   "metadata": {
    "collapsed": false,
    "ExecuteTime": {
     "end_time": "2024-11-13T16:15:20.207989400Z",
     "start_time": "2024-11-13T16:15:20.179498900Z"
    }
   },
   "id": "c2c7ad71d74b7c07"
  },
  {
   "cell_type": "code",
   "execution_count": 67,
   "outputs": [
    {
     "data": {
      "text/plain": "['confidential', 'prohibited', 'secret', 'banned', 'restricted', 'private']"
     },
     "execution_count": 67,
     "metadata": {},
     "output_type": "execute_result"
    }
   ],
   "source": [
    "inappropriate_words"
   ],
   "metadata": {
    "collapsed": false,
    "ExecuteTime": {
     "end_time": "2024-11-13T16:15:20.210021800Z",
     "start_time": "2024-11-13T16:15:20.186173100Z"
    }
   },
   "id": "694d7116c358dd89"
  },
  {
   "cell_type": "markdown",
   "source": [
    "#### Lambda function to check if a word is in the list of inappropriate words"
   ],
   "metadata": {
    "collapsed": false
   },
   "id": "5dfae009a00d53d3"
  },
  {
   "cell_type": "code",
   "execution_count": 68,
   "outputs": [],
   "source": [
    "is_inappropriate = lambda word: word in inappropriate_words"
   ],
   "metadata": {
    "collapsed": false,
    "ExecuteTime": {
     "end_time": "2024-11-13T16:15:20.241446Z",
     "start_time": "2024-11-13T16:15:20.204607800Z"
    }
   },
   "id": "79fa3f73e001b450"
  },
  {
   "cell_type": "markdown",
   "source": [
    "#### Looping through the list of words and printing the appropriate ones"
   ],
   "metadata": {
    "collapsed": false
   },
   "id": "f11c4a005d461043"
  },
  {
   "cell_type": "code",
   "execution_count": 69,
   "outputs": [
    {
     "name": "stdout",
     "output_type": "stream",
     "text": [
      "Allowed word: hello\n",
      "Allowed word: world\n",
      "Reached 'STOP' word\n"
     ]
    }
   ],
   "source": [
    "for word in list_of_words:\n",
    "    if word == \"STOP\": # Exiting the loop.\n",
    "        print(\"Reached 'STOP' word\")\n",
    "        break\n",
    "    if is_inappropriate(word):\n",
    "        # print(f\"Skip word: {word}\") # Skipping inappropriate word\n",
    "        continue \n",
    "    print(f\"Allowed word: {word}\") # Printing allowed word"
   ],
   "metadata": {
    "collapsed": false,
    "ExecuteTime": {
     "end_time": "2024-11-13T16:15:20.242814800Z",
     "start_time": "2024-11-13T16:15:20.219519600Z"
    }
   },
   "id": "fa34495bd972fb0"
  },
  {
   "cell_type": "markdown",
   "source": [],
   "metadata": {
    "collapsed": false
   },
   "id": "20a522299b707b3e"
  }
 ],
 "metadata": {
  "kernelspec": {
   "display_name": "Python 3",
   "language": "python",
   "name": "python3"
  },
  "language_info": {
   "codemirror_mode": {
    "name": "ipython",
    "version": 2
   },
   "file_extension": ".py",
   "mimetype": "text/x-python",
   "name": "python",
   "nbconvert_exporter": "python",
   "pygments_lexer": "ipython2",
   "version": "2.7.6"
  }
 },
 "nbformat": 4,
 "nbformat_minor": 5
}

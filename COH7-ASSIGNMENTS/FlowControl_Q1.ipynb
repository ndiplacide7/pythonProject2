{
 "cells": [
  {
   "cell_type": "code",
   "execution_count": null,
   "id": "initial_id",
   "metadata": {
    "collapsed": true
   },
   "outputs": [],
   "source": [
    "## PYTHON PROGRAM ON FLOW CONTROL\n",
    "## NAME  : NDUWAYEZU Placide\n",
    "## RegNo : 223027936 \n",
    "## ASSIGNMENT : 3"
   ]
  },
  {
   "cell_type": "markdown",
   "source": [
    "# List of students and their marks"
   ],
   "metadata": {
    "collapsed": false
   },
   "id": "fddf302f880c2875"
  },
  {
   "cell_type": "code",
   "execution_count": 3,
   "outputs": [],
   "source": [
    "Marks = [['John', 80], ['Afrodis', 85], ['Alex', 73], ['Adeline', 58], ['Mohmad', 60], ['Elias', 45]]\n"
   ],
   "metadata": {
    "collapsed": false,
    "ExecuteTime": {
     "end_time": "2024-11-13T16:12:05.995943300Z",
     "start_time": "2024-11-13T16:12:05.988621900Z"
    }
   },
   "id": "a8195e601c858d4e"
  },
  {
   "cell_type": "markdown",
   "source": [
    "# Creating Empty Lists to store pass and fail students"
   ],
   "metadata": {
    "collapsed": false
   },
   "id": "2e22b66f9e2adc02"
  },
  {
   "cell_type": "code",
   "execution_count": 5,
   "outputs": [],
   "source": [
    "pass_students = []\n",
    "fail_students = []"
   ],
   "metadata": {
    "collapsed": false,
    "ExecuteTime": {
     "end_time": "2024-11-13T16:12:10.061280600Z",
     "start_time": "2024-11-13T16:12:10.054064300Z"
    }
   },
   "id": "1fa9ad78e013bcdb"
  },
  {
   "cell_type": "markdown",
   "source": [
    "# Iterate through the nested list"
   ],
   "metadata": {
    "collapsed": false
   },
   "id": "c3da561ae8787fa0"
  },
  {
   "cell_type": "code",
   "execution_count": 6,
   "outputs": [],
   "source": [
    "for student in Marks:\n",
    "    name, score = student  # Extract name and score\n",
    "    if score >= 60:\n",
    "        pass_students.append(student)  # Add to pass list if score is 60 or above\n",
    "    else:\n",
    "        fail_students.append(student)  # Add to fail list if score is below 60"
   ],
   "metadata": {
    "collapsed": false,
    "ExecuteTime": {
     "end_time": "2024-11-13T16:13:32.801662Z",
     "start_time": "2024-11-13T16:13:32.791183Z"
    }
   },
   "id": "a0ff321ae5e40b0"
  },
  {
   "cell_type": "markdown",
   "source": [
    "# Calculate the number of students in each category"
   ],
   "metadata": {
    "collapsed": false
   },
   "id": "7864ed865b1d3705"
  },
  {
   "cell_type": "code",
   "execution_count": 7,
   "outputs": [],
   "source": [
    "total_pass = len(pass_students)\n",
    "total_fail = len(fail_students)"
   ],
   "metadata": {
    "collapsed": false,
    "ExecuteTime": {
     "end_time": "2024-11-13T16:13:53.254363500Z",
     "start_time": "2024-11-13T16:13:53.233060Z"
    }
   },
   "id": "5c738f9195949bcf"
  },
  {
   "cell_type": "markdown",
   "source": [
    "# Print results"
   ],
   "metadata": {
    "collapsed": false
   },
   "id": "d74eaf94117a96b9"
  },
  {
   "cell_type": "code",
   "execution_count": 8,
   "outputs": [
    {
     "name": "stdout",
     "output_type": "stream",
     "text": [
      "Pass Students: [['John', 80], ['Afrodis', 85], ['Alex', 73], ['Mohmad', 60]]\n",
      "Total number of pass students: 4\n",
      "Fail Students: [['Adeline', 58], ['Elias', 45]]\n",
      "Total number of fail students: 2\n"
     ]
    }
   ],
   "source": [
    "print(\"Pass Students:\", pass_students)\n",
    "print(\"Total number of pass students:\", total_pass)\n",
    "print(\"Fail Students:\", fail_students)\n",
    "print(\"Total number of fail students:\", total_fail)\n"
   ],
   "metadata": {
    "collapsed": false,
    "ExecuteTime": {
     "end_time": "2024-11-13T16:14:08.344427800Z",
     "start_time": "2024-11-13T16:14:08.321326700Z"
    }
   },
   "id": "7c6de0a0bafda0bc"
  }
 ],
 "metadata": {
  "kernelspec": {
   "display_name": "Python 3",
   "language": "python",
   "name": "python3"
  },
  "language_info": {
   "codemirror_mode": {
    "name": "ipython",
    "version": 2
   },
   "file_extension": ".py",
   "mimetype": "text/x-python",
   "name": "python",
   "nbconvert_exporter": "python",
   "pygments_lexer": "ipython2",
   "version": "2.7.6"
  }
 },
 "nbformat": 4,
 "nbformat_minor": 5
}

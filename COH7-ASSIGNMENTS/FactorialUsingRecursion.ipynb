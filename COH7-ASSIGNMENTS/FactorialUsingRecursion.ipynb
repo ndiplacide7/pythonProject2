{
 "cells": [
  {
   "cell_type": "markdown",
   "source": [
    "## PYTHON PROGRAM FOR FACTORIAL USING RECURSION\n",
    "## NAME  : NDUWAYEZU Placide\n",
    "## RegNo : 223027936 \n",
    "## ASSIGNMENT : 2"
   ],
   "metadata": {
    "collapsed": false
   },
   "id": "17af3334c958f421"
  },
  {
   "cell_type": "markdown",
   "source": [
    "#### Use lambda function for simplicity"
   ],
   "metadata": {
    "collapsed": false
   },
   "id": "67f84fa82e436655"
  },
  {
   "cell_type": "code",
   "execution_count": 54,
   "outputs": [],
   "source": [
    "factorialUsingRecursion = lambda entered_number: \"Impossible\" if entered_number < 0 else (1 if entered_number == 1 else entered_number * factorialUsingRecursion(entered_number - 1))\n"
   ],
   "metadata": {
    "collapsed": false,
    "ExecuteTime": {
     "end_time": "2024-11-13T19:09:32.529550800Z",
     "start_time": "2024-11-13T19:09:32.515650300Z"
    }
   },
   "id": "e11260cfd3d2b854"
  },
  {
   "cell_type": "markdown",
   "source": [
    "#### Usage with input number from the keyboard"
   ],
   "metadata": {
    "collapsed": false
   },
   "id": "d7de431139496f1d"
  },
  {
   "cell_type": "code",
   "execution_count": 53,
   "outputs": [
    {
     "name": "stdout",
     "output_type": "stream",
     "text": [
      "Please enter a valid number!\n"
     ]
    }
   ],
   "source": [
    "try:\n",
    "    inputNum = int(input(\"Enter a number: \"))\n",
    "    print(f\"The Factorial ......: {inputNum}! = {factorialUsingRecursion(inputNum)}\")\n",
    "except ValueError:\n",
    "    print(\"Please enter a valid number!\")\n"
   ],
   "metadata": {
    "collapsed": false,
    "ExecuteTime": {
     "end_time": "2024-11-13T19:09:20.003637400Z",
     "start_time": "2024-11-13T19:09:18.198436Z"
    }
   },
   "id": "b815f4c50e31619e"
  },
  {
   "cell_type": "code",
   "execution_count": 53,
   "outputs": [],
   "source": [],
   "metadata": {
    "collapsed": false,
    "ExecuteTime": {
     "end_time": "2024-11-13T19:09:20.012079100Z",
     "start_time": "2024-11-13T19:09:19.993849300Z"
    }
   },
   "id": "3cc845920809b552"
  },
  {
   "cell_type": "code",
   "execution_count": 53,
   "outputs": [],
   "source": [],
   "metadata": {
    "collapsed": false,
    "ExecuteTime": {
     "end_time": "2024-11-13T19:09:20.035338400Z",
     "start_time": "2024-11-13T19:09:20.008945400Z"
    }
   },
   "id": "5d632ad25b9c9409"
  }
 ],
 "metadata": {
  "kernelspec": {
   "display_name": "Python 3",
   "language": "python",
   "name": "python3"
  },
  "language_info": {
   "codemirror_mode": {
    "name": "ipython",
    "version": 2
   },
   "file_extension": ".py",
   "mimetype": "text/x-python",
   "name": "python",
   "nbconvert_exporter": "python",
   "pygments_lexer": "ipython2",
   "version": "2.7.6"
  }
 },
 "nbformat": 4,
 "nbformat_minor": 5
}

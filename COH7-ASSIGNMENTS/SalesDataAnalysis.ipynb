{
 "cells": [
  {
   "cell_type": "markdown",
   "source": [
    "## PYTHON PROGRAM ON FLOW CONTROL\n",
    "## NAME  : NDUWAYEZU Placide\n",
    "## RegNo : 223027936 \n",
    "## ASSIGNMENT : 6"
   ],
   "metadata": {
    "collapsed": false
   },
   "id": "c60e958a14166975"
  },
  {
   "cell_type": "markdown",
   "source": [],
   "metadata": {
    "collapsed": false
   },
   "id": "f74b962a76d3df53"
  },
  {
   "cell_type": "markdown",
   "source": [
    "# Load each JSON file into a separate DataFrame\n"
   ],
   "metadata": {
    "collapsed": false
   },
   "id": "98fa0c3180094b00"
  },
  {
   "cell_type": "code",
   "execution_count": null,
   "outputs": [],
   "source": [
    "import pandas as pd"
   ],
   "metadata": {
    "collapsed": false
   },
   "id": "100ee1988fb212e7"
  },
  {
   "cell_type": "markdown",
   "source": [
    "1. Load country DataFrame"
   ],
   "metadata": {
    "collapsed": false
   },
   "id": "427a429ae922dbbc"
  },
  {
   "cell_type": "code",
   "execution_count": null,
   "outputs": [],
   "source": [
    "countries_df_original = pd.read_json(\"D:\\\\datasets\\\\coh7\\\\sales-data-analysis\\\\Countries.json\")\n",
    "print(countries_df_original)\n",
    "countries_df = countries_df_original.head(100)\n",
    "countries_df_shape = countries_df.shape\n",
    "print(countries_df.columns)\n",
    "countries_df"
   ],
   "metadata": {
    "collapsed": false
   },
   "id": "409e47d3a49596a2"
  },
  {
   "cell_type": "markdown",
   "source": [
    "2. Load Customer DataFrame"
   ],
   "metadata": {
    "collapsed": false
   },
   "id": "535f6c3ea0fa9116"
  },
  {
   "cell_type": "code",
   "execution_count": null,
   "outputs": [],
   "source": [
    "customers_df_original = pd.read_json(\"D:\\\\datasets\\\\coh7\\\\sales-data-analysis\\\\Customers.json\")\n",
    "print(customers_df_original.shape)\n",
    "customers_df = customers_df_original.head(100)\n",
    "print(customers_df.columns)\n",
    "customers_df"
   ],
   "metadata": {
    "collapsed": false
   },
   "id": "80ee68a8ba250e44"
  },
  {
   "cell_type": "markdown",
   "source": [
    "3. Load Customer DataFrame"
   ],
   "metadata": {
    "collapsed": false
   },
   "id": "f13cbab0c4f1d5b8"
  },
  {
   "cell_type": "code",
   "execution_count": null,
   "outputs": [],
   "source": [
    "orders_df_original = pd.read_json(\"D:\\\\datasets\\\\coh7\\\\sales-data-analysis\\\\Orders.json\")\n",
    "print(orders_df_original.shape)\n",
    "orders_df=orders_df_original.head(100)\n",
    "print(orders_df.columns)\n",
    "orders_df"
   ],
   "metadata": {
    "collapsed": false
   },
   "id": "baf9b79a3ead9f47"
  },
  {
   "cell_type": "markdown",
   "source": [
    "4. Load Products DataFrame"
   ],
   "metadata": {
    "collapsed": false
   },
   "id": "e32347490aa311e"
  },
  {
   "cell_type": "code",
   "execution_count": null,
   "outputs": [],
   "source": [
    "products_df_original = pd.read_json(\"D:\\\\datasets\\\\coh7\\\\sales-data-analysis\\\\Products.json\")\n",
    "print(products_df_original.shape)\n",
    "products_df = products_df_original.head(100).copy()\n",
    "print(products_df.columns)\n",
    "products_df"
   ],
   "metadata": {
    "collapsed": false
   },
   "id": "b1fe7293d6118181"
  },
  {
   "cell_type": "markdown",
   "source": [
    "### Generate new column [Price] with random values"
   ],
   "metadata": {
    "collapsed": false
   },
   "id": "c66bd986c614b9b3"
  },
  {
   "cell_type": "code",
   "execution_count": null,
   "outputs": [],
   "source": [
    "import random\n",
    "random_prices_list = [round(random.uniform(450, 10000),2) for _ in range(12)]\n",
    "products_df['Price'] = random_prices_list\n",
    "products_df"
   ],
   "metadata": {
    "collapsed": false
   },
   "id": "f27127b2cc72fac8"
  },
  {
   "cell_type": "markdown",
   "source": [
    "5. Load Sales DataFrame"
   ],
   "metadata": {
    "collapsed": false
   },
   "id": "744922f7eec9c71b"
  },
  {
   "cell_type": "code",
   "execution_count": null,
   "outputs": [],
   "source": [
    "sales_df_original = pd.read_json(\"D:\\\\datasets\\\\coh7\\\\sales-data-analysis\\\\Sales.json\")\n",
    "print(sales_df_original.shape)\n",
    "sales_df = sales_df_original.head(100)\n",
    "print(sales_df.columns)\n",
    "sales_df"
   ],
   "metadata": {
    "collapsed": false
   },
   "id": "31d2dd8814bf8305"
  },
  {
   "cell_type": "markdown",
   "source": [],
   "metadata": {
    "collapsed": false
   },
   "id": "fee413e5cfca0276"
  },
  {
   "cell_type": "markdown",
   "source": [
    "# 1. MERGING DATAFRAMES"
   ],
   "metadata": {
    "collapsed": false
   },
   "id": "eb05ebf2c388f2eb"
  },
  {
   "cell_type": "code",
   "execution_count": null,
   "outputs": [],
   "source": [],
   "metadata": {
    "collapsed": false
   },
   "id": "902c7d34c057f592"
  },
  {
   "cell_type": "markdown",
   "source": [
    "## Analysis\n",
    "- Merge sales_df with orders_df on OrderId [sales_orders_merged_df]\n",
    "- Merge the result with products_df on ProductId to include product details such as price as per new column added with random values. [sales_orders_products_merged_df]\n",
    "- Merge the result with customers_df on CustomerId to get customer data, including Country information. [sales_orders_products_customers_merged_df]\n",
    "- Merge the result with countries_df on Country to add country names. "
   ],
   "metadata": {
    "collapsed": false
   },
   "id": "7b6002bcaab38aee"
  },
  {
   "cell_type": "markdown",
   "source": [
    "### Merge sales_df with orders_df"
   ],
   "metadata": {
    "collapsed": false
   },
   "id": "5036660ca0b592cc"
  },
  {
   "cell_type": "code",
   "execution_count": null,
   "outputs": [],
   "source": [
    "sales_orders_merged_df = pd.merge(sales_df, orders_df, on=\"OrderId\", how=\"left\")\n",
    "sales_orders_merged_df"
   ],
   "metadata": {
    "collapsed": false
   },
   "id": "680906e172c03475"
  },
  {
   "cell_type": "markdown",
   "source": [
    "### Merge sales_orders_merged_df with products_df"
   ],
   "metadata": {
    "collapsed": false
   },
   "id": "eb2ac7efecdb2dea"
  },
  {
   "cell_type": "code",
   "execution_count": null,
   "outputs": [],
   "source": [
    "sales_orders_products_merged_df = pd.merge(sales_orders_merged_df, products_df, on=\"ProductId\", how=\"left\")\n",
    "print(sales_orders_products_merged_df.columns)\n",
    "sales_orders_products_merged_df"
   ],
   "metadata": {
    "collapsed": false
   },
   "id": "a204520a4625cbde"
  },
  {
   "cell_type": "markdown",
   "source": [
    "### Merge sales_orders_products_merged_df with customers_df\n"
   ],
   "metadata": {
    "collapsed": false
   },
   "id": "2660216d1acb7186"
  },
  {
   "cell_type": "code",
   "execution_count": null,
   "outputs": [],
   "source": [
    "sales_orders_products_customers_merged_df = pd.merge(sales_orders_products_merged_df, customers_df, on=\"CustomerId\", how=\"left\")\n",
    "sales_orders_products_customers_merged_df"
   ],
   "metadata": {
    "collapsed": false
   },
   "id": "247755f41f1f5623"
  },
  {
   "cell_type": "markdown",
   "source": [
    "# Merge sales_orders_products_customers_merged_df with countries_df to get country names"
   ],
   "metadata": {
    "collapsed": false
   },
   "id": "db63c26981f9adb9"
  },
  {
   "cell_type": "code",
   "execution_count": null,
   "outputs": [],
   "source": [
    "# sales_orders_products_customers_countries_merged_df = pd.merge(sales_orders_products_customers_merged_df, countries_df, on=\"Country\", how=\"left\")\n",
    "# print(sales_orders_products_customers_countries_merged_df.columns)\n",
    "# sales_orders_products_customers_countries_merged_df\n",
    "sales_orders_products_customers_countries_merged_df = pd.merge(\n",
    "    sales_orders_products_customers_merged_df,\n",
    "    countries_df,\n",
    "    left_on=\"ManufacturedCountry\",\n",
    "    right_on=\"Country\"\n",
    ")\n",
    "sales_orders_products_customers_countries_merged_df\n"
   ],
   "metadata": {
    "collapsed": false
   },
   "id": "57dae964443774f3"
  },
  {
   "cell_type": "code",
   "execution_count": null,
   "outputs": [],
   "source": [],
   "metadata": {
    "collapsed": false
   },
   "id": "7993f8bcf1bbebfd"
  },
  {
   "cell_type": "markdown",
   "source": [
    "## Calculating the revenue by multiplying quantity and product price"
   ],
   "metadata": {
    "collapsed": false
   },
   "id": "ccbe5b4ab14d1bb6"
  },
  {
   "cell_type": "code",
   "execution_count": null,
   "outputs": [],
   "source": [
    "sales_orders_products_customers_countries_merged_df['revenue'] = sales_orders_products_customers_countries_merged_df['Quantity'] * sales_orders_products_customers_countries_merged_df['Price']\n",
    "sales_orders_products_customers_countries_merged_df"
   ],
   "metadata": {
    "collapsed": false
   },
   "id": "87307911fd876cda"
  },
  {
   "cell_type": "markdown",
   "source": [
    "## Group by country name and sum the revenue"
   ],
   "metadata": {
    "collapsed": false
   },
   "id": "2c94b9e1781e4eaf"
  },
  {
   "cell_type": "code",
   "execution_count": null,
   "outputs": [],
   "source": [
    "\n",
    "# \n",
    "print(sales_orders_products_customers_countries_merged_df[['Country_y', 'revenue']].isnull().sum())\n",
    "sales_orders_products_customers_countries_merged_df['revenue'].fillna(0, inplace=True)\n",
    "\n",
    "revenue_by_country = sales_orders_products_customers_countries_merged_df.groupby('Country_y')['revenue'].sum().reset_index()\n",
    "# revenue_by_country\n",
    "# sales_orders_products_customers_countries_merged_df"
   ],
   "metadata": {
    "collapsed": false
   },
   "id": "df0c8c1857a146c0"
  },
  {
   "cell_type": "markdown",
   "source": [
    "## Sort by revenue for better insight"
   ],
   "metadata": {
    "collapsed": false
   },
   "id": "f4693cd165a9b9be"
  },
  {
   "cell_type": "code",
   "execution_count": null,
   "outputs": [],
   "source": [
    "revenue_by_country = revenue_by_country.sort_values(by='revenue', ascending=True)\n",
    "revenue_by_country\n"
   ],
   "metadata": {
    "collapsed": false
   },
   "id": "8fca0eb8a6e940ce"
  },
  {
   "cell_type": "markdown",
   "source": [
    "### Total Revenue"
   ],
   "metadata": {
    "collapsed": false
   },
   "id": "f893b1237c5aeb8f"
  },
  {
   "cell_type": "code",
   "execution_count": null,
   "outputs": [],
   "source": [
    "print(sales_orders_products_customers_countries_merged_df['revenue'].sum())"
   ],
   "metadata": {
    "collapsed": false
   },
   "id": "140b6e2a7c4400f"
  },
  {
   "cell_type": "code",
   "execution_count": null,
   "outputs": [],
   "source": [],
   "metadata": {
    "collapsed": false
   },
   "id": "ac98f92cdfe383d7"
  },
  {
   "cell_type": "code",
   "execution_count": null,
   "outputs": [],
   "source": [],
   "metadata": {
    "collapsed": false
   },
   "id": "6a71ee315ac8f043"
  },
  {
   "cell_type": "code",
   "execution_count": null,
   "outputs": [],
   "source": [],
   "metadata": {
    "collapsed": false
   },
   "id": "7623c995f830c15b"
  },
  {
   "cell_type": "code",
   "execution_count": null,
   "outputs": [],
   "source": [],
   "metadata": {
    "collapsed": false
   },
   "id": "f0d4a1b6c46783ea"
  }
 ],
 "metadata": {
  "kernelspec": {
   "display_name": "Python 3",
   "language": "python",
   "name": "python3"
  },
  "language_info": {
   "codemirror_mode": {
    "name": "ipython",
    "version": 2
   },
   "file_extension": ".py",
   "mimetype": "text/x-python",
   "name": "python",
   "nbconvert_exporter": "python",
   "pygments_lexer": "ipython2",
   "version": "2.7.6"
  }
 },
 "nbformat": 4,
 "nbformat_minor": 5
}

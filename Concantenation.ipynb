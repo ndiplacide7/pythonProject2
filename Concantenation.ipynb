{
 "cells": [
  {
   "cell_type": "code",
   "execution_count": 15,
   "id": "initial_id",
   "metadata": {
    "collapsed": true,
    "ExecuteTime": {
     "end_time": "2024-11-14T16:58:30.816092600Z",
     "start_time": "2024-11-14T16:58:30.801873600Z"
    }
   },
   "outputs": [],
   "source": []
  },
  {
   "cell_type": "code",
   "execution_count": 16,
   "outputs": [],
   "source": [
    "import pandas as pd"
   ],
   "metadata": {
    "collapsed": false,
    "ExecuteTime": {
     "end_time": "2024-11-14T16:58:30.845249600Z",
     "start_time": "2024-11-14T16:58:30.808382Z"
    }
   },
   "id": "78c368525c5bae27"
  },
  {
   "cell_type": "code",
   "execution_count": 17,
   "outputs": [
    {
     "name": "stdout",
     "output_type": "stream",
     "text": [
      "(12, 4)\n",
      "Index(['ProductId', 'Name', 'ManufacturedCountry', 'WeightGrams'], dtype='object')\n"
     ]
    },
    {
     "data": {
      "text/plain": "    ProductId      Name ManufacturedCountry  WeightGrams\n0           1   Generac                  GB           55\n1           2   Ambigue                  US          128\n2           3    Vaguee                  CA          103\n3           4   Dubioum                  PR           77\n4           5     Fuzzi                  SG           83\n5           6       Lax                  PK           48\n6           7  Nebuloon                  CH          118\n7           8  Obscurry                  AU           88\n8           9   Uncerty                  GH           68\n9          10  Uncleary                  PE           93\n10         11     Tutti                  LI           81\n11         12    Frutti                  JP          104",
      "text/html": "<div>\n<style scoped>\n    .dataframe tbody tr th:only-of-type {\n        vertical-align: middle;\n    }\n\n    .dataframe tbody tr th {\n        vertical-align: top;\n    }\n\n    .dataframe thead th {\n        text-align: right;\n    }\n</style>\n<table border=\"1\" class=\"dataframe\">\n  <thead>\n    <tr style=\"text-align: right;\">\n      <th></th>\n      <th>ProductId</th>\n      <th>Name</th>\n      <th>ManufacturedCountry</th>\n      <th>WeightGrams</th>\n    </tr>\n  </thead>\n  <tbody>\n    <tr>\n      <th>0</th>\n      <td>1</td>\n      <td>Generac</td>\n      <td>GB</td>\n      <td>55</td>\n    </tr>\n    <tr>\n      <th>1</th>\n      <td>2</td>\n      <td>Ambigue</td>\n      <td>US</td>\n      <td>128</td>\n    </tr>\n    <tr>\n      <th>2</th>\n      <td>3</td>\n      <td>Vaguee</td>\n      <td>CA</td>\n      <td>103</td>\n    </tr>\n    <tr>\n      <th>3</th>\n      <td>4</td>\n      <td>Dubioum</td>\n      <td>PR</td>\n      <td>77</td>\n    </tr>\n    <tr>\n      <th>4</th>\n      <td>5</td>\n      <td>Fuzzi</td>\n      <td>SG</td>\n      <td>83</td>\n    </tr>\n    <tr>\n      <th>5</th>\n      <td>6</td>\n      <td>Lax</td>\n      <td>PK</td>\n      <td>48</td>\n    </tr>\n    <tr>\n      <th>6</th>\n      <td>7</td>\n      <td>Nebuloon</td>\n      <td>CH</td>\n      <td>118</td>\n    </tr>\n    <tr>\n      <th>7</th>\n      <td>8</td>\n      <td>Obscurry</td>\n      <td>AU</td>\n      <td>88</td>\n    </tr>\n    <tr>\n      <th>8</th>\n      <td>9</td>\n      <td>Uncerty</td>\n      <td>GH</td>\n      <td>68</td>\n    </tr>\n    <tr>\n      <th>9</th>\n      <td>10</td>\n      <td>Uncleary</td>\n      <td>PE</td>\n      <td>93</td>\n    </tr>\n    <tr>\n      <th>10</th>\n      <td>11</td>\n      <td>Tutti</td>\n      <td>LI</td>\n      <td>81</td>\n    </tr>\n    <tr>\n      <th>11</th>\n      <td>12</td>\n      <td>Frutti</td>\n      <td>JP</td>\n      <td>104</td>\n    </tr>\n  </tbody>\n</table>\n</div>"
     },
     "execution_count": 17,
     "metadata": {},
     "output_type": "execute_result"
    }
   ],
   "source": [
    "products_df_original = pd.read_json(\"D:\\\\datasets\\\\coh7\\\\sales-data-analysis\\\\Products.json\")\n",
    "print(products_df_original.shape)\n",
    "products_df = products_df_original.head(100).copy()\n",
    "print(products_df.columns)\n",
    "products_df"
   ],
   "metadata": {
    "collapsed": false,
    "ExecuteTime": {
     "end_time": "2024-11-14T16:58:30.847328800Z",
     "start_time": "2024-11-14T16:58:30.825184100Z"
    }
   },
   "id": "c6769eb89f856b3c"
  },
  {
   "cell_type": "markdown",
   "source": [
    "## Concatenating Two DataFrames Vertically"
   ],
   "metadata": {
    "collapsed": false
   },
   "id": "4b9026e1690e9b51"
  },
  {
   "cell_type": "code",
   "execution_count": 18,
   "outputs": [],
   "source": [
    "products_df1 = products_df.head(10).copy()"
   ],
   "metadata": {
    "collapsed": false,
    "ExecuteTime": {
     "end_time": "2024-11-14T16:58:30.890624700Z",
     "start_time": "2024-11-14T16:58:30.838245100Z"
    }
   },
   "id": "1e45578e50860818"
  },
  {
   "cell_type": "code",
   "execution_count": 19,
   "outputs": [],
   "source": [
    "products_df2 = products_df.tail(10).copy()"
   ],
   "metadata": {
    "collapsed": false,
    "ExecuteTime": {
     "end_time": "2024-11-14T16:58:30.890624700Z",
     "start_time": "2024-11-14T16:58:30.857824200Z"
    }
   },
   "id": "6fe070385f4df1b9"
  },
  {
   "cell_type": "code",
   "execution_count": 20,
   "outputs": [
    {
     "data": {
      "text/plain": "    ProductId      Name ManufacturedCountry  WeightGrams\n0           1   Generac                  GB           55\n1           2   Ambigue                  US          128\n2           3    Vaguee                  CA          103\n3           4   Dubioum                  PR           77\n4           5     Fuzzi                  SG           83\n5           6       Lax                  PK           48\n6           7  Nebuloon                  CH          118\n7           8  Obscurry                  AU           88\n8           9   Uncerty                  GH           68\n9          10  Uncleary                  PE           93\n10          3    Vaguee                  CA          103\n11          4   Dubioum                  PR           77\n12          5     Fuzzi                  SG           83\n13          6       Lax                  PK           48\n14          7  Nebuloon                  CH          118\n15          8  Obscurry                  AU           88\n16          9   Uncerty                  GH           68\n17         10  Uncleary                  PE           93\n18         11     Tutti                  LI           81\n19         12    Frutti                  JP          104",
      "text/html": "<div>\n<style scoped>\n    .dataframe tbody tr th:only-of-type {\n        vertical-align: middle;\n    }\n\n    .dataframe tbody tr th {\n        vertical-align: top;\n    }\n\n    .dataframe thead th {\n        text-align: right;\n    }\n</style>\n<table border=\"1\" class=\"dataframe\">\n  <thead>\n    <tr style=\"text-align: right;\">\n      <th></th>\n      <th>ProductId</th>\n      <th>Name</th>\n      <th>ManufacturedCountry</th>\n      <th>WeightGrams</th>\n    </tr>\n  </thead>\n  <tbody>\n    <tr>\n      <th>0</th>\n      <td>1</td>\n      <td>Generac</td>\n      <td>GB</td>\n      <td>55</td>\n    </tr>\n    <tr>\n      <th>1</th>\n      <td>2</td>\n      <td>Ambigue</td>\n      <td>US</td>\n      <td>128</td>\n    </tr>\n    <tr>\n      <th>2</th>\n      <td>3</td>\n      <td>Vaguee</td>\n      <td>CA</td>\n      <td>103</td>\n    </tr>\n    <tr>\n      <th>3</th>\n      <td>4</td>\n      <td>Dubioum</td>\n      <td>PR</td>\n      <td>77</td>\n    </tr>\n    <tr>\n      <th>4</th>\n      <td>5</td>\n      <td>Fuzzi</td>\n      <td>SG</td>\n      <td>83</td>\n    </tr>\n    <tr>\n      <th>5</th>\n      <td>6</td>\n      <td>Lax</td>\n      <td>PK</td>\n      <td>48</td>\n    </tr>\n    <tr>\n      <th>6</th>\n      <td>7</td>\n      <td>Nebuloon</td>\n      <td>CH</td>\n      <td>118</td>\n    </tr>\n    <tr>\n      <th>7</th>\n      <td>8</td>\n      <td>Obscurry</td>\n      <td>AU</td>\n      <td>88</td>\n    </tr>\n    <tr>\n      <th>8</th>\n      <td>9</td>\n      <td>Uncerty</td>\n      <td>GH</td>\n      <td>68</td>\n    </tr>\n    <tr>\n      <th>9</th>\n      <td>10</td>\n      <td>Uncleary</td>\n      <td>PE</td>\n      <td>93</td>\n    </tr>\n    <tr>\n      <th>10</th>\n      <td>3</td>\n      <td>Vaguee</td>\n      <td>CA</td>\n      <td>103</td>\n    </tr>\n    <tr>\n      <th>11</th>\n      <td>4</td>\n      <td>Dubioum</td>\n      <td>PR</td>\n      <td>77</td>\n    </tr>\n    <tr>\n      <th>12</th>\n      <td>5</td>\n      <td>Fuzzi</td>\n      <td>SG</td>\n      <td>83</td>\n    </tr>\n    <tr>\n      <th>13</th>\n      <td>6</td>\n      <td>Lax</td>\n      <td>PK</td>\n      <td>48</td>\n    </tr>\n    <tr>\n      <th>14</th>\n      <td>7</td>\n      <td>Nebuloon</td>\n      <td>CH</td>\n      <td>118</td>\n    </tr>\n    <tr>\n      <th>15</th>\n      <td>8</td>\n      <td>Obscurry</td>\n      <td>AU</td>\n      <td>88</td>\n    </tr>\n    <tr>\n      <th>16</th>\n      <td>9</td>\n      <td>Uncerty</td>\n      <td>GH</td>\n      <td>68</td>\n    </tr>\n    <tr>\n      <th>17</th>\n      <td>10</td>\n      <td>Uncleary</td>\n      <td>PE</td>\n      <td>93</td>\n    </tr>\n    <tr>\n      <th>18</th>\n      <td>11</td>\n      <td>Tutti</td>\n      <td>LI</td>\n      <td>81</td>\n    </tr>\n    <tr>\n      <th>19</th>\n      <td>12</td>\n      <td>Frutti</td>\n      <td>JP</td>\n      <td>104</td>\n    </tr>\n  </tbody>\n</table>\n</div>"
     },
     "execution_count": 20,
     "metadata": {},
     "output_type": "execute_result"
    }
   ],
   "source": [
    "combined_df = pd.concat([products_df1, products_df2], axis=0, ignore_index=True)\n",
    "combined_df"
   ],
   "metadata": {
    "collapsed": false,
    "ExecuteTime": {
     "end_time": "2024-11-14T16:58:30.942108500Z",
     "start_time": "2024-11-14T16:58:30.870482400Z"
    }
   },
   "id": "c73801f48ec36fc6"
  },
  {
   "cell_type": "code",
   "execution_count": 20,
   "outputs": [],
   "source": [],
   "metadata": {
    "collapsed": false,
    "ExecuteTime": {
     "end_time": "2024-11-14T16:58:30.944177100Z",
     "start_time": "2024-11-14T16:58:30.884640Z"
    }
   },
   "id": "83eebad90af54434"
  },
  {
   "cell_type": "code",
   "execution_count": 20,
   "outputs": [],
   "source": [],
   "metadata": {
    "collapsed": false,
    "ExecuteTime": {
     "end_time": "2024-11-14T16:58:30.975584700Z",
     "start_time": "2024-11-14T16:58:30.900619700Z"
    }
   },
   "id": "7f3852a3a27be807"
  }
 ],
 "metadata": {
  "kernelspec": {
   "display_name": "Python 3",
   "language": "python",
   "name": "python3"
  },
  "language_info": {
   "codemirror_mode": {
    "name": "ipython",
    "version": 2
   },
   "file_extension": ".py",
   "mimetype": "text/x-python",
   "name": "python",
   "nbconvert_exporter": "python",
   "pygments_lexer": "ipython2",
   "version": "2.7.6"
  }
 },
 "nbformat": 4,
 "nbformat_minor": 5
}

{
 "cells": [
  {
   "cell_type": "markdown",
   "id": "67f84fa82e436655",
   "metadata": {
    "collapsed": false
   },
   "source": [
    "#### Use lambda function for simplicity"
   ]
  },
  {
   "cell_type": "code",
   "execution_count": 9,
   "id": "e11260cfd3d2b854",
   "metadata": {
    "collapsed": false,
    "ExecuteTime": {
     "end_time": "2024-11-17T13:19:02.986338100Z",
     "start_time": "2024-11-17T13:19:02.975640800Z"
    }
   },
   "outputs": [],
   "source": [
    "# factorialUsingRecursion = lambda entered_number: \"Impossible\" if entered_number < 0 else (1 if entered_number == 1 else entered_number * factorialUsingRecursion(entered_number - 1))\n",
    "\n",
    "factorialUsingRecursion = (\n",
    "    lambda entered_number: \n",
    "        \"Impossible\" if entered_number < 0 \n",
    "        else (\n",
    "            1 if entered_number == 1 \n",
    "            else entered_number * factorialUsingRecursion(entered_number - 1)\n",
    "        )\n",
    ")\n"
   ]
  },
  {
   "cell_type": "markdown",
   "id": "d7de431139496f1d",
   "metadata": {
    "collapsed": false
   },
   "source": [
    "#### Usage with input number from the keyboard"
   ]
  },
  {
   "cell_type": "code",
   "execution_count": 10,
   "id": "b815f4c50e31619e",
   "metadata": {
    "collapsed": false,
    "ExecuteTime": {
     "end_time": "2024-11-17T13:19:04.515093200Z",
     "start_time": "2024-11-17T13:19:02.986338100Z"
    }
   },
   "outputs": [
    {
     "name": "stdout",
     "output_type": "stream",
     "text": [
      "The Factorial ......: 3! = 6\n"
     ]
    }
   ],
   "source": [
    "try:\n",
    "    inputNum = int(input(\"Enter a number: \"))\n",
    "    print(f\"The Factorial ......: {inputNum}! = {factorialUsingRecursion(inputNum)}\")\n",
    "except ValueError:\n",
    "    print(\"Please enter a valid number!\")\n"
   ]
  },
  {
   "cell_type": "code",
   "execution_count": 10,
   "id": "3cc845920809b552",
   "metadata": {
    "collapsed": false,
    "ExecuteTime": {
     "end_time": "2024-11-17T13:19:04.516093300Z",
     "start_time": "2024-11-17T13:19:04.494938Z"
    }
   },
   "outputs": [],
   "source": []
  },
  {
   "cell_type": "code",
   "execution_count": 10,
   "id": "5d632ad25b9c9409",
   "metadata": {
    "collapsed": false,
    "ExecuteTime": {
     "end_time": "2024-11-17T13:19:04.535813400Z",
     "start_time": "2024-11-17T13:19:04.511122300Z"
    }
   },
   "outputs": [],
   "source": []
  }
 ],
 "metadata": {
  "kernelspec": {
   "display_name": "Python 3 (ipykernel)",
   "language": "python",
   "name": "python3"
  },
  "language_info": {
   "codemirror_mode": {
    "name": "ipython",
    "version": 3
   },
   "file_extension": ".py",
   "mimetype": "text/x-python",
   "name": "python",
   "nbconvert_exporter": "python",
   "pygments_lexer": "ipython3",
   "version": "3.10.11"
  }
 },
 "nbformat": 4,
 "nbformat_minor": 5
}

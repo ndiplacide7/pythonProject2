{
 "cells": [
  {
   "cell_type": "markdown",
   "source": [
    "# Load each JSON file into a separate DataFrame\n"
   ],
   "metadata": {
    "collapsed": false
   },
   "id": "98fa0c3180094b00"
  },
  {
   "cell_type": "code",
   "execution_count": null,
   "outputs": [],
   "source": [
    "import pandas as pd"
   ],
   "metadata": {
    "collapsed": false
   },
   "id": "100ee1988fb212e7"
  },
  {
   "cell_type": "markdown",
   "source": [
    "1. Load country DataFrame"
   ],
   "metadata": {
    "collapsed": false
   },
   "id": "427a429ae922dbbc"
  },
  {
   "cell_type": "code",
   "execution_count": 54,
   "outputs": [
    {
     "name": "stdout",
     "output_type": "stream",
     "text": [
      "    Country Currency                  Name                Region  Population  \\\n",
      "0        AD      EUR               Andorra        WESTERN EUROPE       71201   \n",
      "1        AE      AED  United Arab Emirates             NEAR EAST     2602713   \n",
      "2        AF      AFN           Afghanistan  ASIA (EX. NEAR EAST)    31056997   \n",
      "3        AG      XCD     Antigua & Barbuda   LATIN AMER. & CARIB       69108   \n",
      "4        AI      XCD              Anguilla   LATIN AMER. & CARIB       13477   \n",
      "..      ...      ...                   ...                   ...         ...   \n",
      "219      YE      YER                 Yemen             NEAR EAST    21456188   \n",
      "220      YT      EUR               Mayotte    SUB-SAHARAN AFRICA      201234   \n",
      "221      ZA      ZAR          South Africa    SUB-SAHARAN AFRICA    44187637   \n",
      "222      ZM      ZMW                Zambia    SUB-SAHARAN AFRICA    11502010   \n",
      "223      ZW      ZWL              Zimbabwe    SUB-SAHARAN AFRICA    12236805   \n",
      "\n",
      "     Area (sq. mi.)  Pop. Density (per sq. mi.)  \\\n",
      "0               468                       152.1   \n",
      "1             82880                        31.4   \n",
      "2            647500                        48.0   \n",
      "3               443                       156.0   \n",
      "4               102                       132.1   \n",
      "..              ...                         ...   \n",
      "219          527970                        40.6   \n",
      "220             374                       538.1   \n",
      "221         1219912                        36.2   \n",
      "222          752614                        15.3   \n",
      "223          390580                        31.3   \n",
      "\n",
      "     Coastline (coast per area ratio)  Net migration  \\\n",
      "0                                0.00           6.60   \n",
      "1                                1.59           1.03   \n",
      "2                                0.00          23.06   \n",
      "3                               34.54          -6.15   \n",
      "4                               59.80          10.76   \n",
      "..                                ...            ...   \n",
      "219                              0.36           0.00   \n",
      "220                             49.52           6.78   \n",
      "221                              0.23          -0.29   \n",
      "222                              0.00           0.00   \n",
      "223                              0.00           0.00   \n",
      "\n",
      "     Infant mortality (per 1000 births)  ...  Phones (per 1000)  Arable (%)  \\\n",
      "0                                  4.05  ...              497.2        2.22   \n",
      "1                                 14.51  ...              475.3        0.60   \n",
      "2                                163.07  ...                3.2       12.13   \n",
      "3                                 19.46  ...              549.9       18.18   \n",
      "4                                 21.03  ...              460.0        0.00   \n",
      "..                                  ...  ...                ...         ...   \n",
      "219                               61.50  ...               37.2        2.78   \n",
      "220                               62.40  ...               49.7         NaN   \n",
      "221                               61.81  ...              107.0       12.08   \n",
      "222                               88.29  ...                8.2        7.08   \n",
      "223                               67.69  ...               26.8        8.32   \n",
      "\n",
      "     Crops (%)  Other (%)  Climate  Birthrate  Deathrate  Agriculture  \\\n",
      "0         0.00      97.78      3.0       8.71       6.25          NaN   \n",
      "1         2.25      97.15      1.0      18.96       4.40        0.040   \n",
      "2         0.22      87.65      1.0      46.60      20.34        0.380   \n",
      "3         4.55      77.27      2.0      16.93       5.37        0.038   \n",
      "4         0.00     100.00      2.0      14.17       5.34        0.040   \n",
      "..         ...        ...      ...        ...        ...          ...   \n",
      "219       0.24      96.98      1.0      42.89       8.30        0.135   \n",
      "220        NaN        NaN      2.0      40.95       7.70          NaN   \n",
      "221       0.79      87.13      1.0      18.20      22.00        0.025   \n",
      "222       0.03      92.90      2.0      41.00      19.93        0.220   \n",
      "223       0.34      91.34      2.0      28.01      21.84        0.179   \n",
      "\n",
      "     Industry  Service  \n",
      "0         NaN      NaN  \n",
      "1       0.585    0.375  \n",
      "2       0.240    0.380  \n",
      "3       0.220    0.743  \n",
      "4       0.180    0.780  \n",
      "..        ...      ...  \n",
      "219     0.472    0.393  \n",
      "220       NaN      NaN  \n",
      "221     0.303    0.671  \n",
      "222     0.290    0.489  \n",
      "223     0.243    0.579  \n",
      "\n",
      "[224 rows x 22 columns]\n",
      "Index(['Country', 'Currency', 'Name', 'Region', 'Population', 'Area (sq. mi.)',\n",
      "       'Pop. Density (per sq. mi.)', 'Coastline (coast per area ratio)',\n",
      "       'Net migration', 'Infant mortality (per 1000 births)',\n",
      "       'GDP ($ per capita)', 'Literacy (%)', 'Phones (per 1000)', 'Arable (%)',\n",
      "       'Crops (%)', 'Other (%)', 'Climate', 'Birthrate', 'Deathrate',\n",
      "       'Agriculture', 'Industry', 'Service'],\n",
      "      dtype='object')\n"
     ]
    },
    {
     "data": {
      "text/plain": "   Country Currency                  Name                Region  Population  \\\n0       AD      EUR               Andorra        WESTERN EUROPE       71201   \n1       AE      AED  United Arab Emirates             NEAR EAST     2602713   \n2       AF      AFN           Afghanistan  ASIA (EX. NEAR EAST)    31056997   \n3       AG      XCD     Antigua & Barbuda   LATIN AMER. & CARIB       69108   \n4       AI      XCD              Anguilla   LATIN AMER. & CARIB       13477   \n..     ...      ...                   ...                   ...         ...   \n95      IN      INR                 India  ASIA (EX. NEAR EAST)  1095351995   \n96      IQ      IQD                  Iraq             NEAR EAST    26783383   \n97      IR      IRR                  Iran  ASIA (EX. NEAR EAST)    68688433   \n98      IS      ISK               Iceland        WESTERN EUROPE      299388   \n99      IT      EUR                 Italy        WESTERN EUROPE    58133509   \n\n    Area (sq. mi.)  Pop. Density (per sq. mi.)  \\\n0              468                       152.1   \n1            82880                        31.4   \n2           647500                        48.0   \n3              443                       156.0   \n4              102                       132.1   \n..             ...                         ...   \n95         3287590                       333.2   \n96          437072                        61.3   \n97         1648000                        41.7   \n98          103000                         2.9   \n99          301230                       193.0   \n\n    Coastline (coast per area ratio)  Net migration  \\\n0                               0.00           6.60   \n1                               1.59           1.03   \n2                               0.00          23.06   \n3                              34.54          -6.15   \n4                              59.80          10.76   \n..                               ...            ...   \n95                              0.21          -0.07   \n96                              0.01           0.00   \n97                              0.15          -0.84   \n98                              4.83           2.38   \n99                              2.52           2.07   \n\n    Infant mortality (per 1000 births)  ...  Phones (per 1000)  Arable (%)  \\\n0                                 4.05  ...              497.2        2.22   \n1                                14.51  ...              475.3        0.60   \n2                               163.07  ...                3.2       12.13   \n3                                19.46  ...              549.9       18.18   \n4                                21.03  ...              460.0        0.00   \n..                                 ...  ...                ...         ...   \n95                               56.29  ...               45.4       54.40   \n96                               50.25  ...               38.6       13.15   \n97                               41.58  ...              276.4        8.72   \n98                                3.31  ...              647.7        0.07   \n99                                5.94  ...              430.9       27.79   \n\n    Crops (%)  Other (%)  Climate  Birthrate  Deathrate  Agriculture  \\\n0        0.00      97.78      3.0       8.71       6.25          NaN   \n1        2.25      97.15      1.0      18.96       4.40        0.040   \n2        0.22      87.65      1.0      46.60      20.34        0.380   \n3        4.55      77.27      2.0      16.93       5.37        0.038   \n4        0.00     100.00      2.0      14.17       5.34        0.040   \n..        ...        ...      ...        ...        ...          ...   \n95       2.74      42.86      2.5      22.01       8.18        0.186   \n96       0.78      86.07      1.0      31.98       5.37        0.073   \n97       1.39      89.89      1.0      17.00       5.55        0.116   \n98       0.00      99.93      3.0      13.64       6.72        0.086   \n99       9.53      62.68      NaN       8.72      10.40        0.021   \n\n    Industry  Service  \n0        NaN      NaN  \n1      0.585    0.375  \n2      0.240    0.380  \n3      0.220    0.743  \n4      0.180    0.780  \n..       ...      ...  \n95     0.276    0.538  \n96     0.666    0.261  \n97     0.424    0.460  \n98     0.150    0.765  \n99     0.291    0.688  \n\n[100 rows x 22 columns]",
      "text/html": "<div>\n<style scoped>\n    .dataframe tbody tr th:only-of-type {\n        vertical-align: middle;\n    }\n\n    .dataframe tbody tr th {\n        vertical-align: top;\n    }\n\n    .dataframe thead th {\n        text-align: right;\n    }\n</style>\n<table border=\"1\" class=\"dataframe\">\n  <thead>\n    <tr style=\"text-align: right;\">\n      <th></th>\n      <th>Country</th>\n      <th>Currency</th>\n      <th>Name</th>\n      <th>Region</th>\n      <th>Population</th>\n      <th>Area (sq. mi.)</th>\n      <th>Pop. Density (per sq. mi.)</th>\n      <th>Coastline (coast per area ratio)</th>\n      <th>Net migration</th>\n      <th>Infant mortality (per 1000 births)</th>\n      <th>...</th>\n      <th>Phones (per 1000)</th>\n      <th>Arable (%)</th>\n      <th>Crops (%)</th>\n      <th>Other (%)</th>\n      <th>Climate</th>\n      <th>Birthrate</th>\n      <th>Deathrate</th>\n      <th>Agriculture</th>\n      <th>Industry</th>\n      <th>Service</th>\n    </tr>\n  </thead>\n  <tbody>\n    <tr>\n      <th>0</th>\n      <td>AD</td>\n      <td>EUR</td>\n      <td>Andorra</td>\n      <td>WESTERN EUROPE</td>\n      <td>71201</td>\n      <td>468</td>\n      <td>152.1</td>\n      <td>0.00</td>\n      <td>6.60</td>\n      <td>4.05</td>\n      <td>...</td>\n      <td>497.2</td>\n      <td>2.22</td>\n      <td>0.00</td>\n      <td>97.78</td>\n      <td>3.0</td>\n      <td>8.71</td>\n      <td>6.25</td>\n      <td>NaN</td>\n      <td>NaN</td>\n      <td>NaN</td>\n    </tr>\n    <tr>\n      <th>1</th>\n      <td>AE</td>\n      <td>AED</td>\n      <td>United Arab Emirates</td>\n      <td>NEAR EAST</td>\n      <td>2602713</td>\n      <td>82880</td>\n      <td>31.4</td>\n      <td>1.59</td>\n      <td>1.03</td>\n      <td>14.51</td>\n      <td>...</td>\n      <td>475.3</td>\n      <td>0.60</td>\n      <td>2.25</td>\n      <td>97.15</td>\n      <td>1.0</td>\n      <td>18.96</td>\n      <td>4.40</td>\n      <td>0.040</td>\n      <td>0.585</td>\n      <td>0.375</td>\n    </tr>\n    <tr>\n      <th>2</th>\n      <td>AF</td>\n      <td>AFN</td>\n      <td>Afghanistan</td>\n      <td>ASIA (EX. NEAR EAST)</td>\n      <td>31056997</td>\n      <td>647500</td>\n      <td>48.0</td>\n      <td>0.00</td>\n      <td>23.06</td>\n      <td>163.07</td>\n      <td>...</td>\n      <td>3.2</td>\n      <td>12.13</td>\n      <td>0.22</td>\n      <td>87.65</td>\n      <td>1.0</td>\n      <td>46.60</td>\n      <td>20.34</td>\n      <td>0.380</td>\n      <td>0.240</td>\n      <td>0.380</td>\n    </tr>\n    <tr>\n      <th>3</th>\n      <td>AG</td>\n      <td>XCD</td>\n      <td>Antigua &amp; Barbuda</td>\n      <td>LATIN AMER. &amp; CARIB</td>\n      <td>69108</td>\n      <td>443</td>\n      <td>156.0</td>\n      <td>34.54</td>\n      <td>-6.15</td>\n      <td>19.46</td>\n      <td>...</td>\n      <td>549.9</td>\n      <td>18.18</td>\n      <td>4.55</td>\n      <td>77.27</td>\n      <td>2.0</td>\n      <td>16.93</td>\n      <td>5.37</td>\n      <td>0.038</td>\n      <td>0.220</td>\n      <td>0.743</td>\n    </tr>\n    <tr>\n      <th>4</th>\n      <td>AI</td>\n      <td>XCD</td>\n      <td>Anguilla</td>\n      <td>LATIN AMER. &amp; CARIB</td>\n      <td>13477</td>\n      <td>102</td>\n      <td>132.1</td>\n      <td>59.80</td>\n      <td>10.76</td>\n      <td>21.03</td>\n      <td>...</td>\n      <td>460.0</td>\n      <td>0.00</td>\n      <td>0.00</td>\n      <td>100.00</td>\n      <td>2.0</td>\n      <td>14.17</td>\n      <td>5.34</td>\n      <td>0.040</td>\n      <td>0.180</td>\n      <td>0.780</td>\n    </tr>\n    <tr>\n      <th>...</th>\n      <td>...</td>\n      <td>...</td>\n      <td>...</td>\n      <td>...</td>\n      <td>...</td>\n      <td>...</td>\n      <td>...</td>\n      <td>...</td>\n      <td>...</td>\n      <td>...</td>\n      <td>...</td>\n      <td>...</td>\n      <td>...</td>\n      <td>...</td>\n      <td>...</td>\n      <td>...</td>\n      <td>...</td>\n      <td>...</td>\n      <td>...</td>\n      <td>...</td>\n      <td>...</td>\n    </tr>\n    <tr>\n      <th>95</th>\n      <td>IN</td>\n      <td>INR</td>\n      <td>India</td>\n      <td>ASIA (EX. NEAR EAST)</td>\n      <td>1095351995</td>\n      <td>3287590</td>\n      <td>333.2</td>\n      <td>0.21</td>\n      <td>-0.07</td>\n      <td>56.29</td>\n      <td>...</td>\n      <td>45.4</td>\n      <td>54.40</td>\n      <td>2.74</td>\n      <td>42.86</td>\n      <td>2.5</td>\n      <td>22.01</td>\n      <td>8.18</td>\n      <td>0.186</td>\n      <td>0.276</td>\n      <td>0.538</td>\n    </tr>\n    <tr>\n      <th>96</th>\n      <td>IQ</td>\n      <td>IQD</td>\n      <td>Iraq</td>\n      <td>NEAR EAST</td>\n      <td>26783383</td>\n      <td>437072</td>\n      <td>61.3</td>\n      <td>0.01</td>\n      <td>0.00</td>\n      <td>50.25</td>\n      <td>...</td>\n      <td>38.6</td>\n      <td>13.15</td>\n      <td>0.78</td>\n      <td>86.07</td>\n      <td>1.0</td>\n      <td>31.98</td>\n      <td>5.37</td>\n      <td>0.073</td>\n      <td>0.666</td>\n      <td>0.261</td>\n    </tr>\n    <tr>\n      <th>97</th>\n      <td>IR</td>\n      <td>IRR</td>\n      <td>Iran</td>\n      <td>ASIA (EX. NEAR EAST)</td>\n      <td>68688433</td>\n      <td>1648000</td>\n      <td>41.7</td>\n      <td>0.15</td>\n      <td>-0.84</td>\n      <td>41.58</td>\n      <td>...</td>\n      <td>276.4</td>\n      <td>8.72</td>\n      <td>1.39</td>\n      <td>89.89</td>\n      <td>1.0</td>\n      <td>17.00</td>\n      <td>5.55</td>\n      <td>0.116</td>\n      <td>0.424</td>\n      <td>0.460</td>\n    </tr>\n    <tr>\n      <th>98</th>\n      <td>IS</td>\n      <td>ISK</td>\n      <td>Iceland</td>\n      <td>WESTERN EUROPE</td>\n      <td>299388</td>\n      <td>103000</td>\n      <td>2.9</td>\n      <td>4.83</td>\n      <td>2.38</td>\n      <td>3.31</td>\n      <td>...</td>\n      <td>647.7</td>\n      <td>0.07</td>\n      <td>0.00</td>\n      <td>99.93</td>\n      <td>3.0</td>\n      <td>13.64</td>\n      <td>6.72</td>\n      <td>0.086</td>\n      <td>0.150</td>\n      <td>0.765</td>\n    </tr>\n    <tr>\n      <th>99</th>\n      <td>IT</td>\n      <td>EUR</td>\n      <td>Italy</td>\n      <td>WESTERN EUROPE</td>\n      <td>58133509</td>\n      <td>301230</td>\n      <td>193.0</td>\n      <td>2.52</td>\n      <td>2.07</td>\n      <td>5.94</td>\n      <td>...</td>\n      <td>430.9</td>\n      <td>27.79</td>\n      <td>9.53</td>\n      <td>62.68</td>\n      <td>NaN</td>\n      <td>8.72</td>\n      <td>10.40</td>\n      <td>0.021</td>\n      <td>0.291</td>\n      <td>0.688</td>\n    </tr>\n  </tbody>\n</table>\n<p>100 rows × 22 columns</p>\n</div>"
     },
     "execution_count": 54,
     "metadata": {},
     "output_type": "execute_result"
    }
   ],
   "source": [
    "countries_df_original = pd.read_json(\"D:\\\\datasets\\\\coh7\\\\sales-data-analysis\\\\Countries.json\")\n",
    "print(countries_df_original)\n",
    "countries_df = countries_df_original.head(100)\n",
    "countries_df_shape = countries_df.shape\n",
    "print(countries_df.columns)\n",
    "countries_df"
   ],
   "metadata": {
    "collapsed": false,
    "ExecuteTime": {
     "end_time": "2024-11-17T14:21:09.000089200Z",
     "start_time": "2024-11-17T14:21:08.954087Z"
    }
   },
   "id": "409e47d3a49596a2"
  },
  {
   "cell_type": "markdown",
   "source": [
    "2. Load Customer DataFrame"
   ],
   "metadata": {
    "collapsed": false
   },
   "id": "535f6c3ea0fa9116"
  },
  {
   "cell_type": "code",
   "execution_count": 55,
   "outputs": [
    {
     "name": "stdout",
     "output_type": "stream",
     "text": [
      "(400, 7)\n",
      "Index(['CustomerId', 'Active', 'Name', 'Address', 'City', 'Country', 'Email'], dtype='object')\n"
     ]
    },
    {
     "data": {
      "text/plain": "    CustomerId  Active            Name                       Address  \\\n0            1    True       Jason Orr      Ap #387-8229 Nullam Road   \n1            2    True    Devin Herman  P.O. Box 905, 9608 Etiam St.   \n2            3    True     Kennan Head         Ap #694-3226 Odio St.   \n3            4   False       Peter Fry       Ap #378-2594 Arcu. Road   \n4            5    True        Guy Ball           418-8277 Sociis Ave   \n..         ...     ...             ...                           ...   \n95          96    True  Nathaniel Goff     P.O. Box 648, 4700 Ut Ave   \n96          97    True   Caleb Rowland        479-1881 Congue Street   \n97          98    True     Chaim Burke    P.O. Box 724, 719 Quis St.   \n98          99    True    Andrew Mcgee   P.O. Box 736, 206 Odio. Rd.   \n99         100    True      Drew Keith                 856 Metus Rd.   \n\n                                      City Country  \\\n0                                  Kilsyth      HN   \n1                                  Portici      HR   \n2                                   Bothey      JO   \n3                                  Oudegem      LR   \n4   Charleville-Mu00c3u00a9ziu00c3u00a8res      TG   \n..                                     ...     ...   \n95                                 Norfolk      DZ   \n96                                Oromocto      BE   \n97                               Gladstone      SH   \n98                                   Butte      LC   \n99                             Hattiesburg      IM   \n\n                                        Email  \n0            lacus.Nulla@Classaptenttaciti.ca  \n1           Integer.vulputate.risus@est.co.uk  \n2               ligula@porttitortellusnon.org  \n3                 eu@Phasellusvitaemauris.com  \n4   vestibulum.Mauris.magna@ipsumdolorsit.com  \n..                                        ...  \n95                 ut.molestie@lobortis.co.uk  \n96                Fusce.dolor@orcilacus.co.uk  \n97     Morbi.metus.Vivamus@fringillaDonec.com  \n98                lorem.vitae@nislNullaeu.com  \n99                          non.leo@magna.com  \n\n[100 rows x 7 columns]",
      "text/html": "<div>\n<style scoped>\n    .dataframe tbody tr th:only-of-type {\n        vertical-align: middle;\n    }\n\n    .dataframe tbody tr th {\n        vertical-align: top;\n    }\n\n    .dataframe thead th {\n        text-align: right;\n    }\n</style>\n<table border=\"1\" class=\"dataframe\">\n  <thead>\n    <tr style=\"text-align: right;\">\n      <th></th>\n      <th>CustomerId</th>\n      <th>Active</th>\n      <th>Name</th>\n      <th>Address</th>\n      <th>City</th>\n      <th>Country</th>\n      <th>Email</th>\n    </tr>\n  </thead>\n  <tbody>\n    <tr>\n      <th>0</th>\n      <td>1</td>\n      <td>True</td>\n      <td>Jason Orr</td>\n      <td>Ap #387-8229 Nullam Road</td>\n      <td>Kilsyth</td>\n      <td>HN</td>\n      <td>lacus.Nulla@Classaptenttaciti.ca</td>\n    </tr>\n    <tr>\n      <th>1</th>\n      <td>2</td>\n      <td>True</td>\n      <td>Devin Herman</td>\n      <td>P.O. Box 905, 9608 Etiam St.</td>\n      <td>Portici</td>\n      <td>HR</td>\n      <td>Integer.vulputate.risus@est.co.uk</td>\n    </tr>\n    <tr>\n      <th>2</th>\n      <td>3</td>\n      <td>True</td>\n      <td>Kennan Head</td>\n      <td>Ap #694-3226 Odio St.</td>\n      <td>Bothey</td>\n      <td>JO</td>\n      <td>ligula@porttitortellusnon.org</td>\n    </tr>\n    <tr>\n      <th>3</th>\n      <td>4</td>\n      <td>False</td>\n      <td>Peter Fry</td>\n      <td>Ap #378-2594 Arcu. Road</td>\n      <td>Oudegem</td>\n      <td>LR</td>\n      <td>eu@Phasellusvitaemauris.com</td>\n    </tr>\n    <tr>\n      <th>4</th>\n      <td>5</td>\n      <td>True</td>\n      <td>Guy Ball</td>\n      <td>418-8277 Sociis Ave</td>\n      <td>Charleville-Mu00c3u00a9ziu00c3u00a8res</td>\n      <td>TG</td>\n      <td>vestibulum.Mauris.magna@ipsumdolorsit.com</td>\n    </tr>\n    <tr>\n      <th>...</th>\n      <td>...</td>\n      <td>...</td>\n      <td>...</td>\n      <td>...</td>\n      <td>...</td>\n      <td>...</td>\n      <td>...</td>\n    </tr>\n    <tr>\n      <th>95</th>\n      <td>96</td>\n      <td>True</td>\n      <td>Nathaniel Goff</td>\n      <td>P.O. Box 648, 4700 Ut Ave</td>\n      <td>Norfolk</td>\n      <td>DZ</td>\n      <td>ut.molestie@lobortis.co.uk</td>\n    </tr>\n    <tr>\n      <th>96</th>\n      <td>97</td>\n      <td>True</td>\n      <td>Caleb Rowland</td>\n      <td>479-1881 Congue Street</td>\n      <td>Oromocto</td>\n      <td>BE</td>\n      <td>Fusce.dolor@orcilacus.co.uk</td>\n    </tr>\n    <tr>\n      <th>97</th>\n      <td>98</td>\n      <td>True</td>\n      <td>Chaim Burke</td>\n      <td>P.O. Box 724, 719 Quis St.</td>\n      <td>Gladstone</td>\n      <td>SH</td>\n      <td>Morbi.metus.Vivamus@fringillaDonec.com</td>\n    </tr>\n    <tr>\n      <th>98</th>\n      <td>99</td>\n      <td>True</td>\n      <td>Andrew Mcgee</td>\n      <td>P.O. Box 736, 206 Odio. Rd.</td>\n      <td>Butte</td>\n      <td>LC</td>\n      <td>lorem.vitae@nislNullaeu.com</td>\n    </tr>\n    <tr>\n      <th>99</th>\n      <td>100</td>\n      <td>True</td>\n      <td>Drew Keith</td>\n      <td>856 Metus Rd.</td>\n      <td>Hattiesburg</td>\n      <td>IM</td>\n      <td>non.leo@magna.com</td>\n    </tr>\n  </tbody>\n</table>\n<p>100 rows × 7 columns</p>\n</div>"
     },
     "execution_count": 55,
     "metadata": {},
     "output_type": "execute_result"
    }
   ],
   "source": [
    "customers_df_original = pd.read_json(\"D:\\\\datasets\\\\coh7\\\\sales-data-analysis\\\\Customers.json\")\n",
    "print(customers_df_original.shape)\n",
    "customers_df = customers_df_original.head(100)\n",
    "print(customers_df.columns)\n",
    "customers_df"
   ],
   "metadata": {
    "collapsed": false,
    "ExecuteTime": {
     "end_time": "2024-11-17T14:21:12.006594800Z",
     "start_time": "2024-11-17T14:21:11.966630400Z"
    }
   },
   "id": "80ee68a8ba250e44"
  },
  {
   "cell_type": "markdown",
   "source": [
    "3. Load Customer DataFrame"
   ],
   "metadata": {
    "collapsed": false
   },
   "id": "f13cbab0c4f1d5b8"
  },
  {
   "cell_type": "code",
   "execution_count": 56,
   "outputs": [
    {
     "name": "stdout",
     "output_type": "stream",
     "text": [
      "(11235, 3)\n",
      "Index(['OrderId', 'CustomerId', 'Date'], dtype='object')\n"
     ]
    },
    {
     "data": {
      "text/plain": "    OrderId  CustomerId       Date\n0         1         181 2018-01-01\n1         2         119 2018-01-01\n2         3          69 2018-01-01\n3         4         173 2018-01-01\n4         5         237 2018-01-01\n..      ...         ...        ...\n95       96         392 2018-01-07\n96       97           3 2018-01-07\n97       98         346 2018-01-07\n98       99          71 2018-01-07\n99      100         144 2018-01-07\n\n[100 rows x 3 columns]",
      "text/html": "<div>\n<style scoped>\n    .dataframe tbody tr th:only-of-type {\n        vertical-align: middle;\n    }\n\n    .dataframe tbody tr th {\n        vertical-align: top;\n    }\n\n    .dataframe thead th {\n        text-align: right;\n    }\n</style>\n<table border=\"1\" class=\"dataframe\">\n  <thead>\n    <tr style=\"text-align: right;\">\n      <th></th>\n      <th>OrderId</th>\n      <th>CustomerId</th>\n      <th>Date</th>\n    </tr>\n  </thead>\n  <tbody>\n    <tr>\n      <th>0</th>\n      <td>1</td>\n      <td>181</td>\n      <td>2018-01-01</td>\n    </tr>\n    <tr>\n      <th>1</th>\n      <td>2</td>\n      <td>119</td>\n      <td>2018-01-01</td>\n    </tr>\n    <tr>\n      <th>2</th>\n      <td>3</td>\n      <td>69</td>\n      <td>2018-01-01</td>\n    </tr>\n    <tr>\n      <th>3</th>\n      <td>4</td>\n      <td>173</td>\n      <td>2018-01-01</td>\n    </tr>\n    <tr>\n      <th>4</th>\n      <td>5</td>\n      <td>237</td>\n      <td>2018-01-01</td>\n    </tr>\n    <tr>\n      <th>...</th>\n      <td>...</td>\n      <td>...</td>\n      <td>...</td>\n    </tr>\n    <tr>\n      <th>95</th>\n      <td>96</td>\n      <td>392</td>\n      <td>2018-01-07</td>\n    </tr>\n    <tr>\n      <th>96</th>\n      <td>97</td>\n      <td>3</td>\n      <td>2018-01-07</td>\n    </tr>\n    <tr>\n      <th>97</th>\n      <td>98</td>\n      <td>346</td>\n      <td>2018-01-07</td>\n    </tr>\n    <tr>\n      <th>98</th>\n      <td>99</td>\n      <td>71</td>\n      <td>2018-01-07</td>\n    </tr>\n    <tr>\n      <th>99</th>\n      <td>100</td>\n      <td>144</td>\n      <td>2018-01-07</td>\n    </tr>\n  </tbody>\n</table>\n<p>100 rows × 3 columns</p>\n</div>"
     },
     "execution_count": 56,
     "metadata": {},
     "output_type": "execute_result"
    }
   ],
   "source": [
    "orders_df_original = pd.read_json(\"D:\\\\datasets\\\\coh7\\\\sales-data-analysis\\\\Orders.json\")\n",
    "print(orders_df_original.shape)\n",
    "orders_df=orders_df_original.head(100)\n",
    "print(orders_df.columns)\n",
    "orders_df"
   ],
   "metadata": {
    "collapsed": false,
    "ExecuteTime": {
     "end_time": "2024-11-17T14:21:14.170570600Z",
     "start_time": "2024-11-17T14:21:14.123726600Z"
    }
   },
   "id": "baf9b79a3ead9f47"
  },
  {
   "cell_type": "markdown",
   "source": [
    "4. Load Products DataFrame"
   ],
   "metadata": {
    "collapsed": false
   },
   "id": "e32347490aa311e"
  },
  {
   "cell_type": "code",
   "execution_count": null,
   "outputs": [],
   "source": [
    "products_df_original = pd.read_json(\"D:\\\\datasets\\\\coh7\\\\sales-data-analysis\\\\Products.json\")\n",
    "print(products_df_original.shape)\n",
    "products_df = products_df_original.head(100).copy()\n",
    "print(products_df.columns)\n",
    "products_df"
   ],
   "metadata": {
    "collapsed": false
   },
   "id": "b1fe7293d6118181"
  },
  {
   "cell_type": "markdown",
   "source": [
    "### Generate new column [Price] with random values"
   ],
   "metadata": {
    "collapsed": false
   },
   "id": "c66bd986c614b9b3"
  },
  {
   "cell_type": "code",
   "execution_count": null,
   "outputs": [],
   "source": [
    "import random\n",
    "random_prices_list = [round(random.uniform(450, 10000),2) for _ in range(12)]\n",
    "products_df['Price'] = random_prices_list\n",
    "products_df"
   ],
   "metadata": {
    "collapsed": false
   },
   "id": "f27127b2cc72fac8"
  },
  {
   "cell_type": "markdown",
   "source": [
    "5. Load Sales DataFrame"
   ],
   "metadata": {
    "collapsed": false
   },
   "id": "744922f7eec9c71b"
  },
  {
   "cell_type": "code",
   "execution_count": null,
   "outputs": [],
   "source": [
    "sales_df_original = pd.read_json(\"D:\\\\datasets\\\\coh7\\\\sales-data-analysis\\\\Sales.json\")\n",
    "print(sales_df_original.shape)\n",
    "sales_df = sales_df_original.head(100)\n",
    "print(sales_df.columns)\n",
    "sales_df"
   ],
   "metadata": {
    "collapsed": false
   },
   "id": "31d2dd8814bf8305"
  },
  {
   "cell_type": "markdown",
   "source": [],
   "metadata": {
    "collapsed": false
   },
   "id": "fee413e5cfca0276"
  },
  {
   "cell_type": "markdown",
   "source": [
    "# 1. MERGING DATAFRAMES"
   ],
   "metadata": {
    "collapsed": false
   },
   "id": "eb05ebf2c388f2eb"
  },
  {
   "cell_type": "code",
   "execution_count": null,
   "outputs": [],
   "source": [],
   "metadata": {
    "collapsed": false
   },
   "id": "902c7d34c057f592"
  },
  {
   "cell_type": "markdown",
   "source": [
    "## Analysis\n",
    "- Merge sales_df with orders_df on OrderId [sales_orders_merged_df]\n",
    "- Merge the result with products_df on ProductId to include product details such as price as per new column added with random values. [sales_orders_products_merged_df]\n",
    "- Merge the result with customers_df on CustomerId to get customer data, including Country information. [sales_orders_products_customers_merged_df]\n",
    "- Merge the result with countries_df on Country to add country names. "
   ],
   "metadata": {
    "collapsed": false
   },
   "id": "7b6002bcaab38aee"
  },
  {
   "cell_type": "markdown",
   "source": [
    "### Merge sales_df with orders_df"
   ],
   "metadata": {
    "collapsed": false
   },
   "id": "5036660ca0b592cc"
  },
  {
   "cell_type": "code",
   "execution_count": null,
   "outputs": [],
   "source": [
    "sales_orders_merged_df = pd.merge(sales_df, orders_df, on=\"OrderId\", how=\"left\")\n",
    "sales_orders_merged_df"
   ],
   "metadata": {
    "collapsed": false
   },
   "id": "680906e172c03475"
  },
  {
   "cell_type": "markdown",
   "source": [
    "### Merge sales_orders_merged_df with products_df"
   ],
   "metadata": {
    "collapsed": false
   },
   "id": "eb2ac7efecdb2dea"
  },
  {
   "cell_type": "code",
   "execution_count": null,
   "outputs": [],
   "source": [
    "sales_orders_products_merged_df = pd.merge(sales_orders_merged_df, products_df, on=\"ProductId\", how=\"left\")\n",
    "print(sales_orders_products_merged_df.columns)\n",
    "sales_orders_products_merged_df"
   ],
   "metadata": {
    "collapsed": false
   },
   "id": "a204520a4625cbde"
  },
  {
   "cell_type": "markdown",
   "source": [
    "### Merge sales_orders_products_merged_df with customers_df\n"
   ],
   "metadata": {
    "collapsed": false
   },
   "id": "2660216d1acb7186"
  },
  {
   "cell_type": "code",
   "execution_count": null,
   "outputs": [],
   "source": [
    "sales_orders_products_customers_merged_df = pd.merge(sales_orders_products_merged_df, customers_df, on=\"CustomerId\", how=\"left\")\n",
    "sales_orders_products_customers_merged_df"
   ],
   "metadata": {
    "collapsed": false
   },
   "id": "247755f41f1f5623"
  },
  {
   "cell_type": "markdown",
   "source": [
    "# Merge sales_orders_products_customers_merged_df with countries_df to get country names"
   ],
   "metadata": {
    "collapsed": false
   },
   "id": "db63c26981f9adb9"
  },
  {
   "cell_type": "code",
   "execution_count": null,
   "outputs": [],
   "source": [
    "# sales_orders_products_customers_countries_merged_df = pd.merge(sales_orders_products_customers_merged_df, countries_df, on=\"Country\", how=\"left\")\n",
    "# print(sales_orders_products_customers_countries_merged_df.columns)\n",
    "# sales_orders_products_customers_countries_merged_df\n",
    "sales_orders_products_customers_countries_merged_df = pd.merge(\n",
    "    sales_orders_products_customers_merged_df,\n",
    "    countries_df,\n",
    "    left_on=\"ManufacturedCountry\",\n",
    "    right_on=\"Country\"\n",
    ")\n",
    "sales_orders_products_customers_countries_merged_df\n"
   ],
   "metadata": {
    "collapsed": false
   },
   "id": "57dae964443774f3"
  },
  {
   "cell_type": "code",
   "execution_count": null,
   "outputs": [],
   "source": [],
   "metadata": {
    "collapsed": false
   },
   "id": "7993f8bcf1bbebfd"
  },
  {
   "cell_type": "markdown",
   "source": [
    "## Calculating the revenue by multiplying quantity and product price"
   ],
   "metadata": {
    "collapsed": false
   },
   "id": "ccbe5b4ab14d1bb6"
  },
  {
   "cell_type": "code",
   "execution_count": null,
   "outputs": [],
   "source": [
    "sales_orders_products_customers_countries_merged_df['revenue'] = sales_orders_products_customers_countries_merged_df['Quantity'] * sales_orders_products_customers_countries_merged_df['Price']\n",
    "sales_orders_products_customers_countries_merged_df"
   ],
   "metadata": {
    "collapsed": false
   },
   "id": "87307911fd876cda"
  },
  {
   "cell_type": "markdown",
   "source": [
    "## Group by country name and sum the revenue"
   ],
   "metadata": {
    "collapsed": false
   },
   "id": "2c94b9e1781e4eaf"
  },
  {
   "cell_type": "code",
   "execution_count": null,
   "outputs": [],
   "source": [
    "print(sales_orders_products_customers_countries_merged_df[['Name', 'revenue']].isnull().sum())\n",
    "sales_orders_products_customers_countries_merged_df['revenue'].fillna(0, inplace=False)\n",
    " \n",
    "revenue_by_country = sales_orders_products_customers_countries_merged_df.groupby('Name')['revenue'].sum().reset_index()\n",
    "revenue_by_country.head(3)\n",
    "# revenue_by_country\n",
    "# sales_orders_products_customers_countries_merged_df"
   ],
   "metadata": {
    "collapsed": false
   },
   "id": "df0c8c1857a146c0"
  },
  {
   "cell_type": "markdown",
   "source": [
    "## Sort by revenue for better insight"
   ],
   "metadata": {
    "collapsed": false
   },
   "id": "f4693cd165a9b9be"
  },
  {
   "cell_type": "code",
   "execution_count": null,
   "outputs": [],
   "source": [
    "revenue_by_country = revenue_by_country.sort_values(by='revenue', ascending=True)\n",
    "revenue_by_country\n"
   ],
   "metadata": {
    "collapsed": false
   },
   "id": "8fca0eb8a6e940ce"
  },
  {
   "cell_type": "markdown",
   "source": [
    "### Total Revenue"
   ],
   "metadata": {
    "collapsed": false
   },
   "id": "f893b1237c5aeb8f"
  },
  {
   "cell_type": "code",
   "execution_count": null,
   "outputs": [],
   "source": [
    "print(sales_orders_products_customers_countries_merged_df['revenue'].sum())"
   ],
   "metadata": {
    "collapsed": false
   },
   "id": "140b6e2a7c4400f"
  },
  {
   "cell_type": "code",
   "execution_count": null,
   "outputs": [],
   "source": [],
   "metadata": {
    "collapsed": false
   },
   "id": "ac98f92cdfe383d7"
  },
  {
   "cell_type": "code",
   "execution_count": null,
   "outputs": [],
   "source": [],
   "metadata": {
    "collapsed": false
   },
   "id": "6a71ee315ac8f043"
  },
  {
   "cell_type": "code",
   "execution_count": null,
   "outputs": [],
   "source": [],
   "metadata": {
    "collapsed": false
   },
   "id": "7623c995f830c15b"
  },
  {
   "cell_type": "code",
   "execution_count": null,
   "outputs": [],
   "source": [],
   "metadata": {
    "collapsed": false
   },
   "id": "f0d4a1b6c46783ea"
  }
 ],
 "metadata": {
  "kernelspec": {
   "display_name": "Python 3",
   "language": "python",
   "name": "python3"
  },
  "language_info": {
   "codemirror_mode": {
    "name": "ipython",
    "version": 2
   },
   "file_extension": ".py",
   "mimetype": "text/x-python",
   "name": "python",
   "nbconvert_exporter": "python",
   "pygments_lexer": "ipython2",
   "version": "2.7.6"
  }
 },
 "nbformat": 4,
 "nbformat_minor": 5
}

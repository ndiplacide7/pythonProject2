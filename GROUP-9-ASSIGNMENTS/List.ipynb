{
 "cells": [
  {
   "cell_type": "markdown",
   "id": "208023537088e0ac",
   "metadata": {
    "collapsed": false
   },
   "source": [
    "# Question No:  1\n",
    "\n",
    "Your marks are stored in list :\n",
    "Marks = [['John', 80], ['Afrodis ', 85], ['Alex', 73], ['Adeline', 58], ['Mohmad', 60], ['Elias',\n",
    "45]]\n",
    "You are asked to write a python script to print separate list of pass students (who scored\n",
    "60 or above) together with total number of pass and , list of fail students (who scored\n",
    "below 60) together with number fail students"
   ]
  },
  {
   "cell_type": "markdown",
   "source": [
    "#### Initial marks list"
   ],
   "metadata": {
    "collapsed": false
   },
   "id": "1702d476b91e5fef"
  },
  {
   "cell_type": "code",
   "execution_count": 39,
   "id": "68db3815a4414397",
   "metadata": {
    "collapsed": false,
    "ExecuteTime": {
     "end_time": "2024-11-17T12:25:38.119352200Z",
     "start_time": "2024-11-17T12:25:38.101375700Z"
    }
   },
   "outputs": [],
   "source": [
    "Marks = [['John', 80], ['Afrodis', 85], ['Alex', 73], ['Adeline', 58], \n",
    "         ['Mohmad', 60], ['Elias', 45]]"
   ]
  },
  {
   "cell_type": "markdown",
   "source": [
    "#### Initialize empty lists for pass and fail students"
   ],
   "metadata": {
    "collapsed": false
   },
   "id": "aeeb2f0a0150894c"
  },
  {
   "cell_type": "code",
   "execution_count": 40,
   "id": "9994a4ed8d8c51fa",
   "metadata": {
    "collapsed": false,
    "ExecuteTime": {
     "end_time": "2024-11-17T12:25:38.159718100Z",
     "start_time": "2024-11-17T12:25:38.127594Z"
    }
   },
   "outputs": [],
   "source": [
    "pass_students_list = []\n",
    "fail_students_list = []"
   ]
  },
  {
   "cell_type": "markdown",
   "source": [
    "#### Separate students based on marks"
   ],
   "metadata": {
    "collapsed": false
   },
   "id": "8df62ee2ca5ba39e"
  },
  {
   "cell_type": "code",
   "execution_count": 41,
   "id": "ce130927a724579a",
   "metadata": {
    "collapsed": false,
    "ExecuteTime": {
     "end_time": "2024-11-17T12:25:38.160430800Z",
     "start_time": "2024-11-17T12:25:38.143637300Z"
    }
   },
   "outputs": [],
   "source": [
    "for student in Marks:\n",
    "    if student[1] >= 60:\n",
    "        pass_students_list.append(student)\n",
    "    else:\n",
    "        fail_students_list.append(student)"
   ]
  },
  {
   "cell_type": "markdown",
   "source": [
    "#### Print pass and fail students along with their count"
   ],
   "metadata": {
    "collapsed": false
   },
   "id": "23d9a5f329348969"
  },
  {
   "cell_type": "code",
   "execution_count": 42,
   "outputs": [
    {
     "name": "stdout",
     "output_type": "stream",
     "text": [
      "Pass Students (60 and above):\n",
      "Name: John, Marks: 80\n",
      "Name: Afrodis, Marks: 85\n",
      "Name: Alex, Marks: 73\n",
      "Name: Mohmad, Marks: 60\n",
      "Total number of pass students....: 4\n",
      "\n",
      "Fail Students (below 60):\n",
      "Name: Adeline, Marks: 58\n",
      "Name: Elias, Marks: 45\n",
      "Total number of fail students....: 2\n"
     ]
    }
   ],
   "source": [
    "print(\"Pass Students (60 and above):\")\n",
    "for student in pass_students_list:\n",
    "     print(f\"Name: {student[0]}, Marks: {student[1]}\")\n",
    "print(f\"Total number of pass students....: {len(pass_students_list)}\\n\")\n",
    "\n",
    "print(\"Fail Students (below 60):\")\n",
    "for student in fail_students_list:\n",
    "    print(f\"Name: {student[0]}, Marks: {student[1]}\")\n",
    "print(f\"Total number of fail students....: {len(fail_students_list)}\")"
   ],
   "metadata": {
    "collapsed": false,
    "ExecuteTime": {
     "end_time": "2024-11-17T12:25:38.199759700Z",
     "start_time": "2024-11-17T12:25:38.165150900Z"
    }
   },
   "id": "14b7c09cb407ae7f"
  },
  {
   "cell_type": "code",
   "execution_count": 42,
   "outputs": [],
   "source": [],
   "metadata": {
    "collapsed": false,
    "ExecuteTime": {
     "end_time": "2024-11-17T12:25:38.214971600Z",
     "start_time": "2024-11-17T12:25:38.189237200Z"
    }
   },
   "id": "73bdfee35b06954"
  },
  {
   "cell_type": "code",
   "execution_count": 42,
   "outputs": [],
   "source": [],
   "metadata": {
    "collapsed": false,
    "ExecuteTime": {
     "end_time": "2024-11-17T12:25:38.250770400Z",
     "start_time": "2024-11-17T12:25:38.204887800Z"
    }
   },
   "id": "8edbc7c86062a656"
  },
  {
   "cell_type": "code",
   "execution_count": 42,
   "outputs": [],
   "source": [],
   "metadata": {
    "collapsed": false,
    "ExecuteTime": {
     "end_time": "2024-11-17T12:25:38.250770400Z",
     "start_time": "2024-11-17T12:25:38.220204Z"
    }
   },
   "id": "d10230fc3aa6335d"
  }
 ],
 "metadata": {
  "kernelspec": {
   "display_name": "Python 3 (ipykernel)",
   "language": "python",
   "name": "python3"
  },
  "language_info": {
   "codemirror_mode": {
    "name": "ipython",
    "version": 3
   },
   "file_extension": ".py",
   "mimetype": "text/x-python",
   "name": "python",
   "nbconvert_exporter": "python",
   "pygments_lexer": "ipython3",
   "version": "3.10.11"
  }
 },
 "nbformat": 4,
 "nbformat_minor": 5
}
